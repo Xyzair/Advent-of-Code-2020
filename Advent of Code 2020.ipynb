{
 "cells": [
  {
   "cell_type": "markdown",
   "metadata": {},
   "source": [
    "# Day 1\n",
    "###### Part 1\n",
    "<https://adventofcode.com/>"
   ]
  },
  {
   "cell_type": "code",
   "execution_count": 26,
   "metadata": {},
   "outputs": [
    {
     "name": "stdout",
     "output_type": "stream",
     "text": [
      "[1310, 1960, 1530, 1453, 1572, 1355, 1314, 1543, 1439, 1280, 1367, 1368, 1313, 1423, 1771, 1868, 1555, 1635, 1200, 2009, 1649, 1824, 1979, 1523, 1548, 1415, 1371, 101, 1836, 1570, 1494, 1850, 1624, 1151, 1408, 1220, 1372, 1871, 1712, 1765, 1950, 1654, 1797, 1814, 1592, 1747, 1566, 1600, 1445, 1297, 1374, 1916, 274, 1735, 1392, 1977, 1957, 1672, 249, 1980, 1791, 1733, 1962, 1641, 1487, 1486, 1741, 1751, 1309, 1342, 1567, 1353, 1909, 1657, 1837, 1438, 1510, 1811, 1939, 1558, 1215, 2010, 1891, 1929, 1208, 1459, 1272, 1696, 1820, 1206, 1414, 1795, 1884, 1734, 1745, 421, 1908, 1986, 1329, 932, 1468, 1720, 1769, 1402, 1913, 1580, 1707, 1799, 1185, 1587, 1521, 1428, 1210, 1822, 194, 1973, 2000, 1940, 1481, 1509, 1563, 1697, 1924, 1671, 1516, 1758, 1552, 1996, 2002, 1883, 1539, 1089, 1794, 1337, 1875, 1736, 1683, 1682, 1354, 1846, 1427, 1359, 1854, 1574, 1198, 359, 1859, 1517, 1706, 1537, 1915, 1983, 1482, 1941, 1703, 1954, 1597, 1903, 1991, 53, 1515, 1259, 1421, 1384, 1948, 1776, 1965, 1625, 1478, 1629, 1949, 1144, 1951, 1656, 1137, 1349, 1910, 1483, 1229, 1480, 1324, 1664, 1604, 1764, 1564, 1673, 1686, 1841, 1640, 1627, 1984, 1258, 1376, 855, 1413, 1261, 1429, 1863, 1540, 692]\n"
     ]
    }
   ],
   "source": [
    "day1data  = open(\"Data/day1values.txt\", \"r\") \n",
    "\n",
    "data = day1data.read().split()\n",
    "\n",
    "for i, value in enumerate(data):\n",
    "    data[i] = int(value)\n",
    "\n",
    "print(data)"
   ]
  },
  {
   "cell_type": "code",
   "execution_count": 21,
   "metadata": {},
   "outputs": [
    {
     "name": "stdout",
     "output_type": "stream",
     "text": [
      "440979 == 1771 * 249\n",
      "440979 == 249 * 1771\n"
     ]
    }
   ],
   "source": [
    "answer = 0\n",
    "for value in data:\n",
    "    for value2 in data:\n",
    "        if value != value2 and value + value2 == 2020:\n",
    "            answer = value * value2\n",
    "            print(answer, \"==\", value, \"*\", value2)"
   ]
  },
  {
   "cell_type": "markdown",
   "metadata": {},
   "source": [
    "## Part 2"
   ]
  },
  {
   "cell_type": "code",
   "execution_count": 25,
   "metadata": {},
   "outputs": [
    {
     "name": "stdout",
     "output_type": "stream",
     "text": [
      "82498112 == 274 * 194 * 1552\n",
      "82498112 == 274 * 1552 * 194\n",
      "82498112 == 194 * 274 * 1552\n",
      "82498112 == 194 * 1552 * 274\n",
      "82498112 == 1552 * 274 * 194\n",
      "82498112 == 1552 * 194 * 274\n"
     ]
    }
   ],
   "source": [
    "answer = 0\n",
    "for value in data:\n",
    "    for value2 in data:\n",
    "        for value3 in data:\n",
    "            if value != value2 and value + value2 + value3 == 2020:\n",
    "                answer = value * value2 * value3\n",
    "                print(answer, \"==\", value, \"*\", value2, \"*\", value3)"
   ]
  },
  {
   "cell_type": "markdown",
   "metadata": {},
   "source": [
    "# Day 2\n",
    "###### Part 1"
   ]
  },
  {
   "cell_type": "code",
   "execution_count": 3,
   "metadata": {},
   "outputs": [
    {
     "name": "stdout",
     "output_type": "stream",
     "text": [
      "378\n"
     ]
    }
   ],
   "source": [
    "day2data  = open(\"Data/day2input.txt\", \"r\") \n",
    "\n",
    "data2 = day2data.read().split(\"\\n\")\n",
    "d2size = len(data2)\n",
    "#print(d2size)\n",
    "number = []\n",
    "letter = []\n",
    "password = []\n",
    "for i, value in enumerate(data2):\n",
    "    #print(value)\n",
    "    \n",
    "    temp = value.split()\n",
    "    #print(i, temp)\n",
    "    number.append(temp[0])\n",
    "    letter.append(temp[1])\n",
    "    password.append(temp[2])\n",
    "#print(number)\n",
    "\n",
    "def passwordcheck(number, letter, password, size):\n",
    "    valid = 0\n",
    "    for i in range(size):\n",
    "        count = password[i].count(letter[i][0])\n",
    "        \n",
    "        nums = number[i].split(\"-\")\n",
    "        num1 = int(nums[0])\n",
    "        num2 = int(nums[1])\n",
    "        #print(password[i], letter[i][0], count, num1, num2)\n",
    "        if(num1 <= count and count <= num2): \n",
    "            valid += 1\n",
    "    return valid\n",
    "        \n",
    "print(passwordcheck(number, letter, password, d2size))"
   ]
  },
  {
   "cell_type": "markdown",
   "metadata": {},
   "source": [
    "## Part 2"
   ]
  },
  {
   "cell_type": "code",
   "execution_count": 10,
   "metadata": {},
   "outputs": [
    {
     "name": "stdout",
     "output_type": "stream",
     "text": [
      "280\n"
     ]
    }
   ],
   "source": [
    "def passwordcheckp2(number, letter, password, size):\n",
    "    valid = 0\n",
    "    for i in range(size):\n",
    "        count = 0\n",
    "        nums = number[i].split(\"-\")\n",
    "        num1 = int(nums[0])\n",
    "        num2 = int(nums[1])\n",
    "        #print(password[i], letter[i][0], num1, num2)\n",
    "        if(len(password[i]) < num2):\n",
    "            break\n",
    "        if(password[i][num1 - 1] == letter[i][0]):\n",
    "            count += 1\n",
    "        if(password[i][num2 - 1] == letter[i][0]):\n",
    "            count += 1\n",
    "        if(count == 1): \n",
    "            valid += 1\n",
    "    return valid\n",
    "\n",
    "print(passwordcheckp2(number, letter, password, d2size))"
   ]
  },
  {
   "cell_type": "markdown",
   "metadata": {},
   "source": [
    "# Day 3 \n",
    "###### Part 1"
   ]
  },
  {
   "cell_type": "code",
   "execution_count": 31,
   "metadata": {},
   "outputs": [
    {
     "name": "stdout",
     "output_type": "stream",
     "text": [
      "216\n"
     ]
    }
   ],
   "source": [
    "day3data  = open(\"Data/day3values.txt\", \"r\") \n",
    "#make the array 2d\n",
    "data3 = day3data.read().split(\"\\n\")\n",
    "\n",
    "#Movement Translation\n",
    "x = 3\n",
    "y = 1\n",
    "def toboggan(x,y):\n",
    "    #current location\n",
    "    #[0] = x  [1] = y\n",
    "    pos = [0,0]\n",
    "\n",
    "    width = len(data3[0])\n",
    "    height = len(data3)\n",
    "    #print(width, height)\n",
    "\n",
    "    tree = 0\n",
    "\n",
    "    while pos[1] < height:\n",
    "        #print(pos)\n",
    "        if(data3[pos[1]][pos[0]] == \"#\"):\n",
    "            tree += 1\n",
    "        pos[0] = (pos[0] + x) % width\n",
    "        pos[1] += y\n",
    "    return tree\n",
    "print(toboggan(x,y))"
   ]
  },
  {
   "cell_type": "markdown",
   "metadata": {},
   "source": [
    "## Part 2"
   ]
  },
  {
   "cell_type": "code",
   "execution_count": 38,
   "metadata": {},
   "outputs": [
    {
     "name": "stdout",
     "output_type": "stream",
     "text": [
      "6708199680\n"
     ]
    }
   ],
   "source": [
    "values = [[1,1],\n",
    "          [3,1],\n",
    "          [5,1],\n",
    "          [7,1],\n",
    "          [1,2]]\n",
    "answer = 1\n",
    "for value in values:\n",
    "    #print(value, toboggan(value[0], value[1]))\n",
    "    answer *= toboggan(value[0], value[1])\n",
    "    \n",
    "print(answer)"
   ]
  },
  {
   "cell_type": "markdown",
   "metadata": {},
   "source": [
    "# Day 4\n",
    "###### Part 1"
   ]
  },
  {
   "cell_type": "code",
   "execution_count": 121,
   "metadata": {
    "scrolled": false
   },
   "outputs": [
    {
     "name": "stdout",
     "output_type": "stream",
     "text": [
      "219\n"
     ]
    }
   ],
   "source": [
    "day4data  = open(\"Data/day4values.txt\", \"r\") \n",
    "#make the array 2d\n",
    "data4 = day4data.read().split(\"\\n\\n\")\n",
    "\n",
    "for i, value in enumerate(data4):\n",
    "    data4[i] = value.replace('\\n', ' ')\n",
    "\n",
    "#print(data4)\n",
    "length4 = len(data4)\n",
    "ans = 0\n",
    "\n",
    "for value in data4:\n",
    "    if \"byr\" in value and \"iyr\" in value and \"eyr\" in value and \"hgt\" in value and \"hcl\" in value and \"ecl\" in value and \"pid\" in value:\n",
    "           ans += 1\n",
    "       \n",
    "print(ans)"
   ]
  },
  {
   "cell_type": "markdown",
   "metadata": {},
   "source": [
    "# Part 2"
   ]
  },
  {
   "cell_type": "code",
   "execution_count": 176,
   "metadata": {
    "scrolled": true
   },
   "outputs": [
    {
     "name": "stdout",
     "output_type": "stream",
     "text": [
      "127\n"
     ]
    }
   ],
   "source": [
    "import re\n",
    "\n",
    "def yearCheck(min, max, find, value):\n",
    "    byr = value.find(find)\n",
    "    temp = int(value[byr+4:byr+8])\n",
    "    if(min <= temp <= max):\n",
    "        return 1\n",
    "    #print(byr)\n",
    "    return 0\n",
    "\n",
    "def heightCheck(value):\n",
    "    hgt = value.find(\"hgt\")\n",
    "    hgtt = value[hgt+4 : hgt+9]\n",
    "    score = 0\n",
    "    \n",
    "    if \"in\" in hgtt:\n",
    "        temp = int(value[hgt+4 : hgt+6])\n",
    "        if(59 <= temp <= 76):\n",
    "            score += 1\n",
    "    elif (\"cm\" in hgtt):\n",
    "        if(\"c\" not in hgtt[0:3]):\n",
    "            temp = int(value[hgt+4 : hgt+7])\n",
    "            if(150 <= temp <= 193):\n",
    "                score += 1\n",
    "                          \n",
    "    return score\n",
    "\n",
    "def eyeColor(value):\n",
    "    #ecl\n",
    "    ecl = value.find(\"ecl\")\n",
    "    ecll = value[ecl+4 :ecl + 7 ]\n",
    "    score =0\n",
    "#   print(ecll)\n",
    "    eyecolors = [\"amb\", \"blu\", \"brn\", \"gry\", \"grn\",\"hzl\", \"oth\"]\n",
    "    if ecll in eyecolors:\n",
    "        score += 1\n",
    "        #print(ecll)\n",
    "    return score\n",
    "\n",
    "\n",
    "ans = 0\n",
    "valid = []\n",
    "for value in data4:\n",
    "    if \"byr\" in value and \"iyr\" in value and \"eyr\" in value and \"hgt\" in value and \"hcl\" in value and \"ecl\" in value and \"pid\" in value:\n",
    "        score = 0\n",
    "        \n",
    "        #birth year\n",
    "        score += yearCheck(1920, 2002, \"byr\", value)\n",
    "        #issued year\n",
    "        score += yearCheck(2010, 2020, \"iyr\", value)\n",
    "        #expiration year\n",
    "        score += yearCheck(2020, 2030, \"eyr\", value)\n",
    "\n",
    "        if score < 3:\n",
    "            continue\n",
    "        \n",
    "        score += heightCheck(value)\n",
    "        score+= eyeColor(value)\n",
    "        \n",
    "#         if score < 5:\n",
    "#             continue\n",
    "                \n",
    "        #hcl\n",
    "        hcl = re.findall(\"hcl:#[0-9, a-f]{6}\", value)\n",
    "        if(hcl != []):\n",
    "            #print(hcl)\n",
    "            score += 1\n",
    "        else:\n",
    "            continue\n",
    "            \n",
    "        \n",
    "\n",
    "#         #print(score)\n",
    "        \n",
    "        #pid\n",
    "#         print(value)\n",
    "        pid = re.findall(\"pid:\\d*\", value)\n",
    "        if(pid != []):\n",
    "            if(len(pid[0]) == 13):\n",
    "                score += 1\n",
    "        else:\n",
    "            continue\n",
    "\n",
    "        if(score >= 7):\n",
    "            ans += 1\n",
    "                            \n",
    "print(ans)"
   ]
  },
  {
   "cell_type": "code",
   "execution_count": 174,
   "metadata": {
    "scrolled": true
   },
   "outputs": [],
   "source": [
    "#print(data4)"
   ]
  },
  {
   "cell_type": "markdown",
   "metadata": {},
   "source": [
    "# Day 5\n",
    "###### Part 1"
   ]
  },
  {
   "cell_type": "code",
   "execution_count": 34,
   "metadata": {
    "scrolled": true
   },
   "outputs": [
    {
     "name": "stdout",
     "output_type": "stream",
     "text": [
      "Max ID: 874.0\n"
     ]
    }
   ],
   "source": [
    "day5data  = open(\"Data/day5values.txt\", \"r\") \n",
    "#make the array 2d\n",
    "data5 = day5data.read().split(\"\\n\")\n",
    "\n",
    "#print(data5)\n",
    "\n",
    "def binarySpacePartition(min, max, upLetter, downLetter, letters):\n",
    "    diff = (max + 1 - min) / 2\n",
    "    #print(min, max, diff)\n",
    "    \n",
    "    if downLetter in letters[0]:\n",
    "        if len(letters) > 1:\n",
    "            return binarySpacePartition(min, max - diff, upLetter, downLetter, letters[1:])\n",
    "        else:\n",
    "            return min \n",
    "        \n",
    "    elif upLetter in letters[0]:\n",
    "        if len(letters) > 1:\n",
    "            return binarySpacePartition(min + diff, max, upLetter, downLetter, letters[1:])\n",
    "        else:\n",
    "            return max\n",
    "    \n",
    "maxID = 0\n",
    "for value in data5:\n",
    "    a = binarySpacePartition(0, 127, \"B\", \"F\", value[0:7])\n",
    "    b = binarySpacePartition(0, 7, \"R\", \"L\", value[7:10])\n",
    "    temp = a * 8 + b\n",
    "    if temp > maxID:\n",
    "        maxID = temp\n",
    "\n",
    "print(\"Max ID:\", maxID)\n"
   ]
  },
  {
   "cell_type": "markdown",
   "metadata": {},
   "source": [
    "# Part 2"
   ]
  },
  {
   "cell_type": "code",
   "execution_count": 35,
   "metadata": {},
   "outputs": [
    {
     "name": "stdout",
     "output_type": "stream",
     "text": [
      "593.0 595.0\n",
      "Seat: 594.0\n"
     ]
    }
   ],
   "source": [
    "maxID = []\n",
    "for value in data5:\n",
    "    a = binarySpacePartition(0, 127, \"B\", \"F\", value[0:7])\n",
    "    b = binarySpacePartition(0, 7, \"R\", \"L\", value[7:10])\n",
    "    temp = a * 8 + b\n",
    "    maxID.append(temp)\n",
    "\n",
    "maxID.sort()\n",
    "prev = -1\n",
    "fount = 0\n",
    "for value in maxID:\n",
    "    if prev == -1 or prev + 1 == value:\n",
    "        prev = value\n",
    "    elif prev + 1 != value:\n",
    "        print(prev, value)\n",
    "        print(\"Seat:\", prev + 1)\n",
    "        break\n",
    "\n",
    "#print(maxID)"
   ]
  },
  {
   "cell_type": "code",
   "execution_count": null,
   "metadata": {},
   "outputs": [],
   "source": []
  }
 ],
 "metadata": {
  "kernelspec": {
   "display_name": "Python 3",
   "language": "python",
   "name": "python3"
  },
  "language_info": {
   "codemirror_mode": {
    "name": "ipython",
    "version": 3
   },
   "file_extension": ".py",
   "mimetype": "text/x-python",
   "name": "python",
   "nbconvert_exporter": "python",
   "pygments_lexer": "ipython3",
   "version": "3.7.7"
  }
 },
 "nbformat": 4,
 "nbformat_minor": 4
}
