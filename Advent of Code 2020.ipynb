{
 "cells": [
  {
   "cell_type": "markdown",
   "metadata": {},
   "source": [
    "# Day 1\n",
    "###### Part 1\n",
    "<https://adventofcode.com/>"
   ]
  },
  {
   "cell_type": "code",
   "execution_count": 26,
   "metadata": {},
   "outputs": [
    {
     "name": "stdout",
     "output_type": "stream",
     "text": [
      "[1310, 1960, 1530, 1453, 1572, 1355, 1314, 1543, 1439, 1280, 1367, 1368, 1313, 1423, 1771, 1868, 1555, 1635, 1200, 2009, 1649, 1824, 1979, 1523, 1548, 1415, 1371, 101, 1836, 1570, 1494, 1850, 1624, 1151, 1408, 1220, 1372, 1871, 1712, 1765, 1950, 1654, 1797, 1814, 1592, 1747, 1566, 1600, 1445, 1297, 1374, 1916, 274, 1735, 1392, 1977, 1957, 1672, 249, 1980, 1791, 1733, 1962, 1641, 1487, 1486, 1741, 1751, 1309, 1342, 1567, 1353, 1909, 1657, 1837, 1438, 1510, 1811, 1939, 1558, 1215, 2010, 1891, 1929, 1208, 1459, 1272, 1696, 1820, 1206, 1414, 1795, 1884, 1734, 1745, 421, 1908, 1986, 1329, 932, 1468, 1720, 1769, 1402, 1913, 1580, 1707, 1799, 1185, 1587, 1521, 1428, 1210, 1822, 194, 1973, 2000, 1940, 1481, 1509, 1563, 1697, 1924, 1671, 1516, 1758, 1552, 1996, 2002, 1883, 1539, 1089, 1794, 1337, 1875, 1736, 1683, 1682, 1354, 1846, 1427, 1359, 1854, 1574, 1198, 359, 1859, 1517, 1706, 1537, 1915, 1983, 1482, 1941, 1703, 1954, 1597, 1903, 1991, 53, 1515, 1259, 1421, 1384, 1948, 1776, 1965, 1625, 1478, 1629, 1949, 1144, 1951, 1656, 1137, 1349, 1910, 1483, 1229, 1480, 1324, 1664, 1604, 1764, 1564, 1673, 1686, 1841, 1640, 1627, 1984, 1258, 1376, 855, 1413, 1261, 1429, 1863, 1540, 692]\n"
     ]
    }
   ],
   "source": [
    "day1data  = open(\"Data/day1values.txt\", \"r\") \n",
    "\n",
    "data = day1data.read().split()\n",
    "\n",
    "for i, value in enumerate(data):\n",
    "    data[i] = int(value)\n",
    "\n",
    "print(data)"
   ]
  },
  {
   "cell_type": "code",
   "execution_count": 21,
   "metadata": {},
   "outputs": [
    {
     "name": "stdout",
     "output_type": "stream",
     "text": [
      "440979 == 1771 * 249\n",
      "440979 == 249 * 1771\n"
     ]
    }
   ],
   "source": [
    "answer = 0\n",
    "for value in data:\n",
    "    for value2 in data:\n",
    "        if value != value2 and value + value2 == 2020:\n",
    "            answer = value * value2\n",
    "            print(answer, \"==\", value, \"*\", value2)"
   ]
  },
  {
   "cell_type": "markdown",
   "metadata": {},
   "source": [
    "## Part 2"
   ]
  },
  {
   "cell_type": "code",
   "execution_count": 25,
   "metadata": {},
   "outputs": [
    {
     "name": "stdout",
     "output_type": "stream",
     "text": [
      "82498112 == 274 * 194 * 1552\n",
      "82498112 == 274 * 1552 * 194\n",
      "82498112 == 194 * 274 * 1552\n",
      "82498112 == 194 * 1552 * 274\n",
      "82498112 == 1552 * 274 * 194\n",
      "82498112 == 1552 * 194 * 274\n"
     ]
    }
   ],
   "source": [
    "answer = 0\n",
    "for value in data:\n",
    "    for value2 in data:\n",
    "        for value3 in data:\n",
    "            if value != value2 and value + value2 + value3 == 2020:\n",
    "                answer = value * value2 * value3\n",
    "                print(answer, \"==\", value, \"*\", value2, \"*\", value3)"
   ]
  },
  {
   "cell_type": "markdown",
   "metadata": {},
   "source": [
    "# Day 2\n",
    "###### Part 1"
   ]
  },
  {
   "cell_type": "code",
   "execution_count": 3,
   "metadata": {},
   "outputs": [
    {
     "name": "stdout",
     "output_type": "stream",
     "text": [
      "378\n"
     ]
    }
   ],
   "source": [
    "day2data  = open(\"Data/day2input.txt\", \"r\") \n",
    "\n",
    "data2 = day2data.read().split(\"\\n\")\n",
    "d2size = len(data2)\n",
    "#print(d2size)\n",
    "number = []\n",
    "letter = []\n",
    "password = []\n",
    "for i, value in enumerate(data2):\n",
    "    #print(value)\n",
    "    \n",
    "    temp = value.split()\n",
    "    #print(i, temp)\n",
    "    number.append(temp[0])\n",
    "    letter.append(temp[1])\n",
    "    password.append(temp[2])\n",
    "#print(number)\n",
    "\n",
    "def passwordcheck(number, letter, password, size):\n",
    "    valid = 0\n",
    "    for i in range(size):\n",
    "        count = password[i].count(letter[i][0])\n",
    "        \n",
    "        nums = number[i].split(\"-\")\n",
    "        num1 = int(nums[0])\n",
    "        num2 = int(nums[1])\n",
    "        #print(password[i], letter[i][0], count, num1, num2)\n",
    "        if(num1 <= count and count <= num2): \n",
    "            valid += 1\n",
    "    return valid\n",
    "        \n",
    "print(passwordcheck(number, letter, password, d2size))"
   ]
  },
  {
   "cell_type": "markdown",
   "metadata": {},
   "source": [
    "## Part 2"
   ]
  },
  {
   "cell_type": "code",
   "execution_count": 10,
   "metadata": {},
   "outputs": [
    {
     "name": "stdout",
     "output_type": "stream",
     "text": [
      "280\n"
     ]
    }
   ],
   "source": [
    "def passwordcheckp2(number, letter, password, size):\n",
    "    valid = 0\n",
    "    for i in range(size):\n",
    "        count = 0\n",
    "        nums = number[i].split(\"-\")\n",
    "        num1 = int(nums[0])\n",
    "        num2 = int(nums[1])\n",
    "        #print(password[i], letter[i][0], num1, num2)\n",
    "        if(len(password[i]) < num2):\n",
    "            break\n",
    "        if(password[i][num1 - 1] == letter[i][0]):\n",
    "            count += 1\n",
    "        if(password[i][num2 - 1] == letter[i][0]):\n",
    "            count += 1\n",
    "        if(count == 1): \n",
    "            valid += 1\n",
    "    return valid\n",
    "\n",
    "print(passwordcheckp2(number, letter, password, d2size))"
   ]
  },
  {
   "cell_type": "markdown",
   "metadata": {},
   "source": [
    "# Day 3 \n",
    "###### Part 1"
   ]
  },
  {
   "cell_type": "code",
   "execution_count": 31,
   "metadata": {},
   "outputs": [
    {
     "name": "stdout",
     "output_type": "stream",
     "text": [
      "216\n"
     ]
    }
   ],
   "source": [
    "day3data  = open(\"Data/day3values.txt\", \"r\") \n",
    "#make the array 2d\n",
    "data3 = day3data.read().split(\"\\n\")\n",
    "\n",
    "#Movement Translation\n",
    "x = 3\n",
    "y = 1\n",
    "def toboggan(x,y):\n",
    "    #current location\n",
    "    #[0] = x  [1] = y\n",
    "    pos = [0,0]\n",
    "\n",
    "    width = len(data3[0])\n",
    "    height = len(data3)\n",
    "    #print(width, height)\n",
    "\n",
    "    tree = 0\n",
    "\n",
    "    while pos[1] < height:\n",
    "        #print(pos)\n",
    "        if(data3[pos[1]][pos[0]] == \"#\"):\n",
    "            tree += 1\n",
    "        pos[0] = (pos[0] + x) % width\n",
    "        pos[1] += y\n",
    "    return tree\n",
    "print(toboggan(x,y))"
   ]
  },
  {
   "cell_type": "markdown",
   "metadata": {},
   "source": [
    "## Part 2"
   ]
  },
  {
   "cell_type": "code",
   "execution_count": 38,
   "metadata": {},
   "outputs": [
    {
     "name": "stdout",
     "output_type": "stream",
     "text": [
      "6708199680\n"
     ]
    }
   ],
   "source": [
    "values = [[1,1],\n",
    "          [3,1],\n",
    "          [5,1],\n",
    "          [7,1],\n",
    "          [1,2]]\n",
    "answer = 1\n",
    "for value in values:\n",
    "    #print(value, toboggan(value[0], value[1]))\n",
    "    answer *= toboggan(value[0], value[1])\n",
    "    \n",
    "print(answer)"
   ]
  },
  {
   "cell_type": "markdown",
   "metadata": {},
   "source": [
    "# Day 4\n",
    "###### Part 1"
   ]
  },
  {
   "cell_type": "code",
   "execution_count": 149,
   "metadata": {
    "scrolled": false
   },
   "outputs": [
    {
     "name": "stdout",
     "output_type": "stream",
     "text": [
      "219\n"
     ]
    }
   ],
   "source": [
    "day4data  = open(\"Data/day4values.txt\", \"r\") \n",
    "#make the array 2d\n",
    "data4 = day4data.read().split(\"\\n\\n\")\n",
    "#print(data4)\n",
    "length4 = len(data4)\n",
    "ans = 0\n",
    "\n",
    "for value in data4:\n",
    "    if \"byr\" in value and \"iyr\" in value and \"eyr\" in value and \"hgt\" in value and \"hcl\" in value and \"ecl\" in value and \"pid\" in value:\n",
    "           ans += 1\n",
    "       \n",
    "print(ans)"
   ]
  },
  {
   "cell_type": "markdown",
   "metadata": {},
   "source": [
    "# Part 2"
   ]
  },
  {
   "cell_type": "code",
   "execution_count": 179,
   "metadata": {
    "scrolled": true
   },
   "outputs": [
    {
     "name": "stdout",
     "output_type": "stream",
     "text": [
      "11\n"
     ]
    }
   ],
   "source": [
    "import re\n",
    "\n",
    "def yearCheck(min, max, find, value):\n",
    "    byr = -1\n",
    "    byr = value.find(find)\n",
    "    temp = int(value[byr+4:byr+8])\n",
    "    if(temp >= min and temp <= max):\n",
    "        return 1\n",
    "    #print(byr)\n",
    "    return 0\n",
    "\n",
    "ans =0\n",
    "for value in data4:\n",
    "    if \"byr\" in value and \"iyr\" in value and \"eyr\" in value and \"hgt\" in value and \"hcl\" in value and \"ecl\" in value and \"pid\" in value:\n",
    "        score = 0\n",
    "        \n",
    "        score += yearCheck(1920, 2002, \"byr\", value)\n",
    "        score += yearCheck(2010, 2020, \"iyr\", value)\n",
    "        score += yearCheck(2020, 2030, \"eyr\", value)\n",
    "\n",
    "        if score < 3:\n",
    "            continue\n",
    "    \n",
    "\n",
    "        \n",
    "        #hgt\n",
    "        hgt = value.find(\"hgt\")\n",
    "        hgtt = value[hgt+4 : hgt+9]\n",
    "        if \"in\" in hgtt:\n",
    "            temp = int(value[hgt+4 : hgt+6])\n",
    "            if(59 <= temp and temp <= 76):\n",
    "                score += 1\n",
    "        elif (\"cm\" in hgtt):\n",
    "            if(\"c\" not in hgtt):\n",
    "                temp = int(value[hgt+4 : hgt+7])\n",
    "                if(150 <= temp and temp <=193):\n",
    "                    score += 1\n",
    "                else:\n",
    "                    continue\n",
    "                \n",
    "        #hcl\n",
    "        hcl = re.search(\".*hcl:#[0-9, a-f]{6}.*\", value)\n",
    "        if(hcll != None):\n",
    "            #print(value)\n",
    "            score += 1\n",
    "        else:\n",
    "            continue\n",
    "            \n",
    "        #ecl\n",
    "        ecl = value.find(\"ecl\")\n",
    "        ecll = value[ecl+4 :ecl + 7 ]\n",
    "#        print(ecll)\n",
    "        if(\"blu\" in ecll or \"brn\" in ecll or \"gry\" in ecll or \"grn\" in ecll or \"hzl\" in ecll or \"oth\" in ecll):\n",
    "            score += 1\n",
    "            #print(ecll)\n",
    "        else:\n",
    "            continue\n",
    "\n",
    "        #print(score)\n",
    "        \n",
    "        #pid\n",
    "#         print(value)\n",
    "        pid = re.search(\".*pid:[0-9]{9}.*\", value)\n",
    "        if(pid != None):\n",
    "#             print(pid)\n",
    "            score += 1\n",
    "        else:\n",
    "            continue\n",
    "            \n",
    "        if(score >= 7):\n",
    "            ans += 1\n",
    "                \n",
    "print(ans)"
   ]
  },
  {
   "cell_type": "code",
   "execution_count": 180,
   "metadata": {},
   "outputs": [
    {
     "name": "stdout",
     "output_type": "stream",
     "text": [
      "['eyr:2033\\nhgt:177cm pid:173cm\\necl:utc byr:2029 hcl:#efcc98 iyr:2023', 'pid:337605855 cid:249 byr:1952 hgt:155cm\\necl:grn iyr:2017 eyr:2026 hcl:#866857', 'cid:242 iyr:2011 pid:953198122 eyr:2029 ecl:blu hcl:#888785', 'hgt:173cm hcl:#341e13\\ncid:341\\npid:112086592\\niyr:2012 byr:2011 ecl:amb\\neyr:2030', 'pid:790332032\\niyr:2019\\neyr:2023 byr:1969 ecl:brn\\nhgt:163cm\\nhcl:#623a2f', 'byr:1920 eyr:2023 cid:146 pid:890112986 hgt:171cm hcl:#b6652a iyr:2017 ecl:hzl', 'hcl:#c0946f byr:1967 cid:199 ecl:gry\\niyr:2012 pid:987409259 hgt:157cm eyr:2021', 'pid:316587303 iyr:2016 eyr:2023 ecl:blu byr:1959 hgt:186cm hcl:#733820', 'hcl:#fffffd hgt:152cm byr:1996 ecl:gry eyr:2024', 'ecl:brn hgt:185cm\\npid:648491325 byr:1967\\nhcl:#172f67 iyr:2014\\neyr:2028', 'pid:328737320 iyr:2017 hcl:#fffffd hgt:178\\necl:#35fad5\\nbyr:1959', 'iyr:2010 byr:1943 eyr:2028\\nhgt:178cm hcl:#888785 pid:572750267', 'cid:175 ecl:brn eyr:2026 iyr:2017\\nhcl:#5d69b9 byr:1998 pid:289515215\\nhgt:151cm', 'hgt:182cm\\necl:blu eyr:2028 iyr:2011 hcl:#a97842 pid:758494126', 'iyr:2023\\nhgt:174cm hcl:cafc2f\\necl:utc\\ncid:299 eyr:2026 pid:57963956', 'pid:853993893 ecl:blu hgt:188cm cid:294 hcl:#341e13 byr:1975\\neyr:2027 iyr:2015', 'ecl:amb hgt:70 iyr:2018 pid:241872490\\nbyr:1962\\neyr:2024 hcl:c5f0c3', 'pid:994754974 eyr:2029 iyr:2017\\ncid:137 byr:1966 hcl:#733820 ecl:blu', 'ecl:utc\\npid:937481632 hgt:190\\neyr:2025 iyr:2027 byr:1949 cid:84 hcl:d3f4f5', 'cid:129 ecl:brn hgt:91 eyr:1932\\niyr:2020 pid:298540404 hcl:#888785 byr:1986', 'pid:416051368 eyr:2020 iyr:2011\\nhgt:93 byr:2023 hcl:#efcc98\\necl:amb', 'byr:2010 hgt:181cm\\niyr:2020\\neyr:2040 pid:785862801 ecl:#f84ccd', 'hgt:152cm iyr:2013 pid:932020343 eyr:2023 ecl:hzl byr:1920\\nhcl:#fffffd', 'hgt:152cm\\niyr:2020 byr:1993 hcl:#18171d pid:120354938\\neyr:2021 ecl:gry', 'eyr:2025 byr:1996\\nhcl:#623a2f\\niyr:2018 ecl:oth cid:177 pid:904738945 hgt:164cm', 'pid:45042993\\nhgt:193 iyr:2018 byr:2026 eyr:2026\\nhcl:#623a2f cid:175 ecl:brn', 'byr:1956 ecl:hzl iyr:2020 pid:892810672 hgt:164cm eyr:2021 cid:186 hcl:#efcc98', 'cid:314 hgt:180cm\\necl:amb hcl:#602927 byr:2027\\niyr:1958\\neyr:2020 pid:#b2b732', 'cid:50\\nhcl:#a97842\\nhgt:155cm pid:667716485 ecl:gry iyr:2014 byr:1995 eyr:2029', 'eyr:2030\\npid:783631610\\nhgt:74\\nbyr:2014 hcl:z iyr:2003 ecl:grt', 'ecl:#d4d852 iyr:2029 hcl:z hgt:185in\\neyr:2034 pid:#526166', 'iyr:1946 eyr:1957 byr:1941 pid:632690435 ecl:oth hcl:18a37c hgt:59cm', 'iyr:2013\\neyr:2026 pid:002380966 cid:95\\nhcl:#623a2f byr:1965 ecl:oth', 'ecl:gry pid:479214778 hcl:#18171d\\nbyr:1928 cid:98 eyr:2020 iyr:2019 hgt:163cm', 'hcl:#bd0f54 cid:225 eyr:2024 hgt:153cm iyr:2020\\nbyr:1956 pid:048565668 ecl:hzl', 'ecl:#5d8b3b hgt:156cm eyr:2029 pid:#3df0cc byr:1967 cid:118 hcl:e23f0f', 'pid:437721309\\nhcl:#cfa07d hgt:181cm iyr:2019 cid:224 eyr:2028 byr:1946\\necl:gry', 'byr:1962\\neyr:2023\\nhgt:182cm\\npid:733248003 ecl:blu\\niyr:2014 hcl:#efcc98', 'byr:1966 hgt:158cm\\neyr:2029 hcl:#602927 iyr:2013\\npid:963663665', 'pid:529595074 byr:1940 eyr:2020 hcl:#c0946f cid:113 iyr:2015 ecl:oth\\nhgt:191cm', 'ecl:hzl\\nhcl:#a97842\\nhgt:157cm eyr:2025 iyr:2015 byr:1978 pid:579525362', 'ecl:oth hcl:#18171d cid:76 iyr:2011 eyr:2021\\nbyr:1953 hgt:173cm pid:976483712', 'ecl:brn hcl:#fffffd cid:242 pid:588299934\\nhgt:69in byr:1947\\niyr:2010 eyr:2030', 'hcl:#fffffd ecl:gry cid:93\\npid:731904973 byr:1939 eyr:2029 iyr:2016', 'pid:96716037 iyr:1938 eyr:2032\\nhgt:192 ecl:gmt byr:2029 hcl:02edc5', 'byr:1958\\niyr:2011 eyr:2029 ecl:gry\\npid:526931024\\nhcl:z\\nhgt:59cm', 'byr:1966 ecl:hzl\\npid:378066668 hcl:#c0946f\\niyr:2017 eyr:2026 cid:142 hgt:184cm', 'pid:1134356373\\niyr:2019\\necl:grn\\nhcl:#ceb3a1 byr:1950\\nhgt:154in', 'hgt:157cm ecl:zzz byr:1976\\npid:5047305958\\niyr:2013 hcl:#341e13', 'eyr:2024\\nhcl:#a97842 hgt:179cm pid:543943316 cid:214 ecl:brn\\nbyr:1999\\niyr:2017', 'byr:1983 eyr:2024 hgt:177cm\\necl:hzl\\niyr:2013 pid:328883228 hcl:#ceb3a1', 'cid:226 pid:262286178 iyr:2010 ecl:grn byr:1962 eyr:2025 hcl:#efcc98\\nhgt:60in', 'iyr:2029 ecl:#559ffe hcl:z\\ncid:156\\nbyr:2003\\nhgt:178\\npid:93994500', 'iyr:2026 hcl:#eda7f3 ecl:amb\\nbyr:1921 eyr:2021 pid:153cm', 'byr:1988\\necl:amb hgt:178cm hcl:#2aea45\\npid:70722502 eyr:2027 iyr:2015', 'pid:555636800 eyr:2020 hgt:182cm iyr:2019 byr:1948 cid:325\\nhcl:#733820', 'eyr:1973\\niyr:2024 hcl:z byr:2028 ecl:dne cid:169\\npid:43596015 hgt:170in', 'hcl:#b6652a ecl:gry\\ncid:264\\nhgt:178cm iyr:2027 pid:23042405 byr:1947 eyr:2024', 'byr:1989\\npid:266274644 ecl:blu eyr:2023 hcl:#733820\\nhgt:192cm iyr:2018 cid:272', 'iyr:2013 hcl:z hgt:73cm byr:2014 pid:192cm ecl:#1627a7', 'pid:816749378 hgt:178cm\\nhcl:#733820 eyr:2029\\nbyr:1993', 'hcl:0cacc5 byr:1944 iyr:2028 eyr:2024 hgt:163in pid:74169361\\necl:dne', 'hcl:#ceb3a1\\necl:grn\\neyr:2027 pid:481186415 hgt:176cm cid:325\\nbyr:1986', 'eyr:2028 hgt:174cm ecl:brn\\nhcl:#888785 iyr:2015 pid:064161451 byr:1969', 'ecl:brn cid:323 hgt:167\\nbyr:1993 iyr:1953\\nhcl:z eyr:2023 pid:161542750', 'ecl:#895336 eyr:2033 hgt:67cm cid:254 iyr:1967 hcl:z byr:1954', 'ecl:#9dbea3 iyr:2018 eyr:2035\\nhgt:183\\npid:747501524 hcl:#fd8515 cid:110\\nbyr:1997', 'ecl:utc\\niyr:2014 hgt:183in byr:2007 eyr:2026 hcl:#cfa07d\\ncid:334', 'ecl:gry hcl:#b6652a pid:250420128\\neyr:2024 byr:1939 hgt:170cm', 'hcl:#18171d eyr:2030 byr:1925 pid:204206116\\niyr:2014 hgt:174cm ecl:hzl', 'iyr:2020 hcl:#efcc98\\npid:393444692\\necl:oth hgt:152cm byr:1957 eyr:2021', 'byr:1973 eyr:2024 iyr:2014 hcl:#602927\\npid:832320186 hgt:166cm ecl:grn', 'pid:192524664 hgt:182cm\\nhcl:#18171d\\necl:oth eyr:2030 byr:1942 iyr:2013', 'hgt:129 byr:2016 hcl:6734a1 ecl:#915282 iyr:1949 cid:130 pid:677408864 eyr:2030', 'eyr:2028 ecl:gry hgt:171cm byr:1960 iyr:2020 pid:688526729 cid:262 hcl:#733820', 'ecl:grn iyr:2019 pid:775867641 hcl:#bf1e29\\nbyr:1920 hgt:163cm', 'eyr:2029 hcl:#866857\\niyr:2024\\npid:170cm byr:1931\\nhgt:177cm ecl:hzl cid:312', 'iyr:2019 ecl:#19fef5 pid:2080468234\\neyr:2008 hgt:72\\nhcl:e14dfe\\nbyr:1980 cid:272', 'byr:2025\\ncid:163\\niyr:2020 pid:758946748 hgt:161cm\\necl:amb eyr:2023 hcl:026d4d', 'iyr:2021 cid:109\\neyr:2032 byr:2010\\nhcl:#fffffd pid:874586711 ecl:hzl hgt:142', 'eyr:2023\\nhcl:z iyr:2019 byr:2013 ecl:#b42611 pid:164cm hgt:60cm', 'byr:1935 cid:226 hcl:#602927 ecl:blu pid:700452129 eyr:2029\\niyr:2016 hgt:180cm', 'hgt:179cm\\npid:181cm\\necl:gry cid:309\\neyr:2029\\nhcl:#6b5442\\nbyr:1987\\niyr:2010', 'ecl:gry byr:1986 hcl:#cce4b8\\npid:101583943 iyr:2010 hgt:65cm eyr:2021', 'cid:168\\npid:#8556c9 hcl:413944 eyr:2036 byr:2013 iyr:2012\\necl:#66dc1c hgt:59cm', 'eyr:1984 byr:2017 pid:#cbc84e hcl:z\\ncid:189 iyr:2021 ecl:blu\\nhgt:152cm', 'byr:1993 hcl:#004c11 eyr:2026\\niyr:2010\\necl:brn hgt:188cm\\npid:889959941', 'hgt:172 byr:2008 eyr:2030 iyr:1959\\necl:oth hcl:#a8ebbb', 'iyr:2013 hcl:#8f97b1 hgt:182cm ecl:grn cid:89\\neyr:2029\\nbyr:1974', 'eyr:2025 hcl:#6b5442 pid:222418968 byr:1951 cid:105 ecl:hzl iyr:2011 hgt:181cm', 'iyr:2017\\necl:brn pid:481721303 hgt:190cm\\neyr:2037 byr:1990 hcl:#ceb3a1', 'hcl:z\\npid:85905429\\nbyr:1923 cid:260\\neyr:2031 ecl:gry\\niyr:2022 hgt:180cm', 'hcl:#fffffd hgt:76cm\\necl:grn\\npid:39254112 byr:2010 iyr:1961 eyr:2028', 'ecl:brn iyr:2016\\neyr:2027 hcl:#efcc98 pid:753268957 hgt:60in byr:1943', 'ecl:oth\\npid:087762106 hgt:190cm\\nbyr:1974 cid:171 hcl:#c63f21\\neyr:2020', 'ecl:#8c1b6c\\nbyr:1962 iyr:2007 pid:106672731\\nhgt:172in cid:239 eyr:2026 hcl:#b6652a', 'hgt:170cm eyr:2021\\ncid:219 hcl:#a97842 pid:040224991 byr:1950 iyr:2018', 'byr:2029\\neyr:2036 cid:309\\niyr:2016 hgt:167cm hcl:#fffffd\\necl:#1ab23b', 'iyr:2013 ecl:gry eyr:2020 pid:947828194\\nhcl:#18171d hgt:163cm byr:1971', 'hcl:#fffffd iyr:2011\\npid:150105713 eyr:2029\\nhgt:168cm byr:1925 ecl:hzl', 'cid:253\\nhcl:#341e13\\neyr:2025 hgt:184cm\\npid:651786830 byr:1936 iyr:2013\\necl:hzl', 'pid:7328393469\\nhgt:175cm ecl:gry iyr:2012 byr:1963 hcl:#623a2f eyr:2026', 'eyr:2029 pid:669044398 hgt:161cm hcl:#cfa07d ecl:gry iyr:2018', 'pid:920006222 byr:1941 ecl:grn eyr:2027 cid:87 hcl:#733820\\niyr:2018 hgt:171cm', 'byr:1964 hgt:157cm hcl:#a97842\\npid:756972774 eyr:2024 iyr:2013 ecl:gry', 'iyr:2010 cid:279\\nhgt:189cm byr:1959\\necl:brn eyr:2022 pid:937686753 hcl:#602927', 'iyr:2013\\neyr:2027 cid:223 pid:145547438\\nhcl:#6e6f47 hgt:165cm ecl:amb', 'byr:2009\\necl:oth hcl:#623a2f\\nhgt:166cm eyr:2034 pid:120339592\\niyr:2012', 'eyr:2026 hcl:z byr:2018 pid:7809314464 iyr:2012 hgt:158cm ecl:hzl', 'cid:291 hgt:168\\necl:#7734de iyr:2021 hcl:5b4ef1 pid:3381158334 eyr:1956 byr:2003', 'iyr:2015 hcl:#cfa07d\\nbyr:1971 eyr:2023\\necl:oth pid:560419063 cid:155 hgt:170cm', 'eyr:2021 hgt:189cm iyr:2014 hcl:#6b5442 ecl:brn cid:287\\nbyr:1951 pid:936881112', 'iyr:2013\\neyr:2020 ecl:hzl hgt:150cm cid:210\\npid:032458640 byr:1920 hcl:#6b5442', 'hgt:180cm hcl:#cfa07d ecl:grn eyr:2027\\npid:140859202 iyr:2014 cid:232\\nbyr:1932', 'pid:68300657 byr:1988 hgt:181cm\\necl:hzl iyr:1951 hcl:e18469\\neyr:2013', 'pid:157572693 hgt:185cm\\nhcl:#065fe8 ecl:gry eyr:2027\\niyr:2014', 'eyr:2029 hgt:164cm hcl:z ecl:grn cid:270 iyr:2019 byr:1993 pid:338068138', 'iyr:2016 cid:131 byr:1990 hcl:#7d3b0c ecl:grn pid:066023454 hgt:154cm\\neyr:2025', 'iyr:2019 eyr:2024 hgt:174cm\\npid:855792798 byr:1920 hcl:#cfa07d', 'eyr:2020\\nhgt:74in iyr:2013 ecl:amb\\nbyr:1920 hcl:3f6214\\npid:957164804', 'pid:756767000 hcl:#220540 byr:1922 hgt:172cm\\neyr:2023 cid:305 ecl:hzl iyr:2019', 'hgt:193in eyr:2025 pid:117240526 iyr:2017 hcl:#888785 byr:1928 ecl:blu', 'byr:1942\\necl:blu\\ncid:347\\nhcl:#fffffd eyr:2023 iyr:2017\\nhgt:154cm pid:836554235', 'eyr:2023 hcl:#efcc98\\npid:364475403 byr:1962 iyr:2015\\necl:brn hgt:59in cid:289', 'byr:2021 hcl:ca4bcf hgt:88 iyr:2017 ecl:gmt pid:181cm eyr:2032', 'byr:1937 iyr:2014 hgt:154cm ecl:brn\\nhcl:#866857\\neyr:2022 pid:234591437', 'iyr:2002 cid:139 byr:1982\\nhcl:#c0946f\\npid:#62721b hgt:159in eyr:1966 ecl:brn', 'eyr:2036 ecl:oth byr:2026 hgt:96\\npid:137651094\\nhcl:z', 'pid:373485985\\niyr:2030 ecl:gry byr:2011 hgt:65cm\\nhcl:#733820', 'pid:390979357\\necl:gry hgt:164cm\\nhcl:#ceb3a1 eyr:2029 byr:1932 iyr:2015', 'ecl:hzl hgt:68in eyr:2023 pid:829734763 iyr:2016 hcl:#733820 byr:1997', 'hgt:150cm byr:1926 iyr:2019 pid:521908229 eyr:2029 ecl:brn hcl:#623a2f', 'eyr:2023 byr:1974\\niyr:2018 cid:58\\necl:grn\\npid:310883188 hcl:#866857\\nhgt:164cm', 'byr:1963 iyr:2019\\nhgt:162cm\\neyr:2021\\nhcl:#fffffd ecl:oth pid:104734523', 'hcl:#888785 cid:150\\neyr:2020 byr:1988\\niyr:2018\\necl:oth\\nhgt:179cm pid:635972018', 'iyr:2014 hcl:#7d3b0c ecl:hzl pid:717760687\\nbyr:1929 eyr:2027 hgt:183cm', 'iyr:2019 byr:2000\\neyr:2025 pid:506581828 hcl:#602927 ecl:oth\\nhgt:162cm', 'pid:#fd3377 ecl:#618bce hcl:#ceb3a1\\niyr:1944 hgt:182cm cid:57\\nbyr:2022 eyr:1995', 'pid:4790730010\\nhgt:192cm\\ncid:222 byr:2022\\nhcl:4798e7 ecl:#5126d5 iyr:1954 eyr:2040', 'hcl:#b6652a\\necl:brn cid:181 pid:983890186 hgt:189cm byr:1998\\neyr:2022 iyr:2011', 'iyr:2018 eyr:2022\\ncid:58 byr:1994 hgt:169cm ecl:hzl pid:036522894\\nhcl:#2c9ee8', 'iyr:1979\\nhcl:e09b9c byr:2016\\nhgt:121 eyr:1962 pid:#fb14be cid:265 ecl:lzr', 'eyr:2024 hgt:63in hcl:#efcc98 iyr:2018\\nbyr:1953 pid:881102827 ecl:amb', 'ecl:oth hgt:177cm eyr:2028 iyr:2011\\nhcl:#efcc98 pid:113579849 byr:1957', 'ecl:#fe1b74 iyr:1926 hgt:70cm\\npid:70807766 hcl:556dca byr:2030\\neyr:2032', 'byr:1997 ecl:blu hgt:105\\npid:178655906 iyr:2025\\nhcl:#6b5442\\neyr:2021', 'eyr:2030 ecl:grt hgt:161cm hcl:#ceb3a1 iyr:2016\\npid:318930966 cid:59 byr:1924', 'cid:200 hgt:67in\\npid:229395752 byr:1936 ecl:oth iyr:2013 eyr:2020 hcl:#c0946f', 'byr:1990 iyr:2018\\ncid:99 hcl:#6b5442 hgt:155 pid:350832537 ecl:blu eyr:2021', 'eyr:2039 byr:2025 pid:247367429 hcl:z iyr:2013 ecl:amb\\ncid:118', 'eyr:2027 hcl:z ecl:utc\\ncid:274 hgt:175in iyr:2016 byr:1977 pid:478855994', 'eyr:2020 pid:636743032\\nhcl:#64a8b8 iyr:2018 ecl:grn hgt:68in byr:1969', 'pid:515635081 iyr:2013 byr:1980 eyr:2024 hgt:173cm ecl:gry\\nhcl:#b6652a', 'ecl:utc byr:2026 iyr:1999 eyr:1937\\nhgt:66cm\\nhcl:z\\npid:2247643960', 'iyr:2013 byr:1942 hgt:154cm eyr:2020 hcl:#18171d cid:323 pid:302753381 ecl:oth', 'ecl:xry pid:346719476\\niyr:1999\\neyr:2020 hgt:154cm hcl:z\\nbyr:2027', 'hgt:160cm eyr:2025 hcl:#fffffd byr:1998\\npid:678119271 ecl:blu iyr:2014', 'hgt:161cm iyr:2011\\necl:blu\\nbyr:1921 pid:236833613 eyr:2021\\nhcl:#623a2f', 'ecl:hzl hcl:#18171d hgt:151cm pid:541887993\\nbyr:1995 iyr:2019 eyr:2021', 'pid:496474711 byr:1966 ecl:gry eyr:2025 hgt:176cm\\nhcl:#b6652a iyr:2018', 'iyr:2010 hcl:#efcc98 pid:351846405\\neyr:2024 hgt:150cm\\nbyr:1941', 'hgt:151cm ecl:gry hcl:#a97842 pid:586789406\\neyr:2022 iyr:2013 byr:1982', 'byr:1994 eyr:2028 ecl:gry\\nhcl:#888785 iyr:2010\\nhgt:165cm cid:183', 'iyr:2015\\nbyr:1933 hcl:#733820 hgt:167cm\\necl:blu pid:914665208 eyr:2027', 'eyr:2031 hcl:6804ef\\necl:amb\\nbyr:2024\\nhgt:157cm iyr:1938\\npid:#0418fb', 'byr:1936\\necl:oth hgt:190cm cid:91\\npid:711544430 iyr:2020\\neyr:2025 hcl:#888785', 'pid:381452527\\neyr:2027 hcl:#efcc98 ecl:brn\\nbyr:1956 hgt:63in', 'ecl:oth\\niyr:2014 hcl:#ceb3a1\\ncid:254\\npid:544612871 byr:1985 eyr:2023 hgt:172cm', 'hcl:#efcc98\\nhgt:191cm byr:1948\\necl:blu eyr:2028\\npid:953894279 iyr:2017', 'byr:1968 pid:875469219\\nhcl:#efcc98 hgt:176cm cid:141 iyr:2017', 'eyr:2022 hcl:#733820 ecl:hzl\\npid:870733357 iyr:2013\\nbyr:1949 hgt:150cm cid:252', 'ecl:gry\\nhcl:#602927 pid:632246684 byr:1986\\neyr:2030 hgt:152cm iyr:2013', 'eyr:2029\\niyr:2016\\nbyr:1969 pid:595125675 ecl:gry hcl:#cfa07d hgt:184cm', 'byr:1947 hcl:z\\ncid:188 eyr:2038 pid:177cm iyr:2011 hgt:166cm ecl:#c1376b', 'ecl:hzl hgt:170cm cid:307 eyr:2022\\nbyr:1971\\nhcl:#b6652a pid:047040501', 'hgt:126 ecl:zzz\\nbyr:2019\\npid:170207910 eyr:2035 hcl:23df48\\niyr:1932', 'hgt:152cm cid:270 eyr:2036 ecl:#408f6e iyr:1952 pid:5808880830 byr:2022\\nhcl:0b1ba6', 'eyr:2021 hgt:179cm\\nbyr:1938 pid:140937061 iyr:2030 hcl:#a97842 ecl:oth', 'hgt:67cm eyr:2028 pid:816355657\\niyr:2019 byr:2008 hcl:z ecl:#5b4f31', 'cid:192\\niyr:2018 eyr:2020 byr:1983 pid:873720366\\necl:grn hgt:187cm hcl:#6b5442', 'byr:1955 hgt:71in iyr:2018 pid:320019385 hcl:#6b5442\\ncid:324 eyr:2027', 'pid:957860464\\nhcl:#602927\\niyr:2011\\nbyr:2026 cid:261 eyr:2006', 'byr:1989 ecl:gry cid:143 pid:258434299 eyr:2027 hgt:192cm iyr:2017 hcl:#7d3b0c', 'pid:#1742ae\\necl:#a61090\\niyr:2028 hcl:717dd0 hgt:139 cid:183\\neyr:2035', 'eyr:2028 pid:039325804 hgt:167cm hcl:#888785 ecl:oth cid:155 iyr:2013 byr:1923', 'byr:1956 iyr:2010\\nhcl:#d683bf\\neyr:2023\\nhgt:70in\\ncid:197 pid:143320690\\necl:hzl', 'ecl:#4004e3 cid:278\\niyr:1950 pid:745107377\\nbyr:2007 eyr:2036\\nhcl:8447eb hgt:74cm', 'hcl:#ceb3a1 hgt:177cm iyr:2010 pid:640032134\\necl:gry\\neyr:2027 byr:1958', 'hgt:187cm\\niyr:1921 ecl:#1c7d96\\neyr:1987\\nbyr:2028 pid:#28e5a1 cid:144 hcl:9fc25d', 'iyr:2012 byr:1996 cid:289 hgt:177cm hcl:#fffffd pid:687240168 eyr:2030 ecl:gry', 'pid:860410143 ecl:dne eyr:2031 cid:206 hgt:187in byr:1927\\nhcl:8c2149 iyr:2012', 'iyr:2010\\nbyr:1963 cid:139 pid:160019759\\neyr:2030 hgt:172cm hcl:#602927', 'pid:309851270\\niyr:2014\\necl:hzl byr:1939\\ncid:71\\neyr:2030\\nhcl:#b216fb\\nhgt:161cm', 'ecl:gry\\ncid:138\\niyr:2014\\nhgt:177cm byr:1942\\npid:900269082 eyr:2024 hcl:#fffffd', 'iyr:2019 hgt:158cm\\nhcl:#18171d pid:941939350 eyr:2024 ecl:brn byr:1944', 'byr:2023 ecl:brn\\ncid:101 eyr:2016 pid:190078757 hgt:188in', 'cid:188\\necl:blu pid:075499609\\nbyr:1970\\nhcl:#fffffd hgt:164cm eyr:2028 iyr:2015', 'byr:2011 hcl:z\\necl:gry\\npid:408316491 hgt:64cm iyr:2017 eyr:1968', 'ecl:oth hcl:#6b5442\\npid:623099801\\nhgt:163cm\\nbyr:1928', 'pid:165230004\\necl:grn byr:1935 hcl:#c0946f iyr:2012\\nhgt:185cm', 'hgt:162cm pid:069876432 byr:1960 cid:326 iyr:2013\\nhcl:#cfa07d eyr:2021\\necl:grn', 'ecl:#f3d8ba hgt:182cm eyr:2020 byr:2007\\nhcl:z iyr:2014 pid:6141297559', 'pid:867747198\\nhcl:#efcc98\\neyr:2030 byr:1989\\nhgt:181cm', 'byr:2000 eyr:2021 hgt:166cm\\nhcl:#fffffd iyr:2019 pid:546346187 cid:111 ecl:grn', 'eyr:2034 hcl:#623a2f\\nbyr:1958\\npid:60553207 ecl:#76b538 hgt:59 cid:75', 'hcl:#623a2f\\neyr:2023 pid:251940892 byr:1998\\niyr:2012\\nhgt:181cm ecl:gry', 'iyr:2020 cid:83\\nbyr:1938 eyr:2024 ecl:amb pid:046668488 hgt:181cm hcl:#341e13', 'ecl:grn\\neyr:2036 iyr:1951 byr:2029 hcl:z hgt:177in\\npid:135470038', 'iyr:2015 eyr:2023\\nbyr:1961\\ncid:81 hcl:#a97842 pid:710065884\\nhgt:152cm\\necl:#1f9801', 'byr:2014\\npid:25253929 hcl:z\\necl:#f3fb41 eyr:2025 cid:255 iyr:1998\\nhgt:155cm', 'ecl:gry pid:919070381 hcl:#efcc98 iyr:2019 eyr:2021 byr:1995', 'byr:1942\\neyr:2029\\nhgt:191cm hcl:#18171d\\npid:649719423 iyr:2018 ecl:brn', 'ecl:gry\\nbyr:1963 iyr:2016 hgt:188cm pid:024539026 eyr:2022', 'hgt:176cm\\necl:hzl eyr:1923 pid:176188310 hcl:#b6652a\\nbyr:1939\\niyr:2011', 'iyr:2011 hcl:#888785 eyr:2030 ecl:gry byr:1920', 'pid:#0468a7 hcl:851fe0 eyr:2036 hgt:60cm\\nbyr:2030\\niyr:1995\\necl:utc', 'hcl:#866857 iyr:2016 ecl:oth\\npid:414233531 eyr:2022 byr:1957\\nhgt:169cm cid:229', 'cid:185 ecl:#5f6f53\\npid:#20f317 byr:2024 eyr:1988 hcl:z iyr:2023 hgt:158in', 'pid:015894427 eyr:2027 hgt:177cm ecl:blu\\ncid:222\\nhcl:#c0946f iyr:2010 byr:1993', 'cid:101 hgt:162cm hcl:#c0946f pid:666662343 ecl:grn\\nbyr:1974\\niyr:2019\\neyr:2029', 'pid:782547454 hcl:z ecl:#b0805f\\niyr:2013 eyr:2023\\nhgt:159cm\\nbyr:1935\\ncid:230', 'pid:298008321 hcl:231e1b hgt:166cm ecl:oth\\niyr:2026 eyr:2020', 'pid:230201309 iyr:2010 eyr:2025 hcl:#6b5442\\ncid:238\\necl:grn\\nhgt:174cm', 'cid:287 eyr:2026 hcl:#733820\\npid:201750712 iyr:2010\\necl:oth byr:1985\\nhgt:185cm', 'hcl:#a97842 hgt:70in eyr:2029\\npid:419407059 ecl:grn byr:1987\\niyr:2016', 'hgt:191cm byr:1951\\neyr:2027 hcl:#8a9477 iyr:2015 ecl:amb pid:769071985', 'hcl:#6b5442\\niyr:2012 ecl:blu\\ncid:336 pid:391608810 byr:1995\\neyr:2022\\nhgt:161cm', 'iyr:2020\\nbyr:1938\\npid:927067439 eyr:2027 hgt:173cm\\nhcl:306963 ecl:xry', 'byr:1991\\niyr:2021 hgt:175cm hcl:68b4f3 ecl:utc\\npid:037777327 eyr:2026', 'hgt:64in\\neyr:2025 hcl:#da6977 cid:137 byr:1990 iyr:2013 pid:918997697 ecl:amb', 'iyr:2011 ecl:gry hgt:173cm eyr:2023 pid:802831612\\nhcl:#733820 byr:1976', 'byr:1938 eyr:2021 pid:575395401 cid:234\\nhcl:#866857 ecl:hzl hgt:176cm', 'hcl:#ceb3a1 ecl:hzl\\neyr:2035\\niyr:2014\\nbyr:2019', 'ecl:hzl pid:961361236\\nhgt:193cm hcl:#efcc98\\niyr:2011 eyr:2030 byr:1967', 'eyr:1936 ecl:blu\\nhgt:153cm hcl:98d3f0 pid:7296832671\\nbyr:1931 iyr:1962', 'iyr:2016 eyr:2024 hcl:#6b5442 ecl:grn\\npid:265815316 byr:1966\\nhgt:165cm', 'pid:203025149\\neyr:2029\\niyr:2010 cid:124 byr:1999 ecl:blu', 'iyr:2011 eyr:2028 pid:#7e0612 byr:1924 hcl:#7d3b0c ecl:oth\\nhgt:82', 'ecl:hzl\\nbyr:1941\\nhcl:#b6652a eyr:2020 pid:409573276\\niyr:1976 hgt:166cm', 'ecl:grn eyr:2030\\nhgt:163cm iyr:2011 pid:121609314 byr:1961 hcl:#426e1a', 'pid:#49ea2c\\neyr:2029 hcl:#6b5442 iyr:1931\\nhgt:62cm ecl:brn\\nbyr:2012', 'eyr:2038 hcl:8d1f49 ecl:#6d4ea1 pid:0853660207 byr:2020 hgt:71cm', 'ecl:hzl hgt:170cm\\niyr:2011\\nbyr:1966 eyr:2028\\npid:609548717 hcl:#c0946f', 'byr:1921 hcl:#c0946f ecl:blu iyr:2019 eyr:2024 pid:643387204', 'cid:324 hgt:162cm ecl:amb\\nhcl:#18171d byr:1961\\neyr:2027 iyr:2010 pid:939720354', 'byr:1933 hcl:#fffffd\\npid:353343882\\neyr:2025 hgt:171cm ecl:amb cid:329\\niyr:2017', 'byr:2004 iyr:2022\\npid:157cm eyr:2035\\necl:#eafe47 hgt:129\\nhcl:z', 'cid:55 iyr:2025 hgt:177in pid:493884348\\nhcl:#888785 byr:1925 ecl:#b11d27 eyr:2036', 'ecl:hzl\\nhgt:171cm\\niyr:2012 pid:479669573 cid:335 hcl:#fffffd byr:1953\\neyr:2029', 'byr:1930 hcl:5bdf31\\npid:#b21f8a hgt:164cm\\ncid:134\\niyr:2023 ecl:lzr', 'iyr:2018 eyr:2026 ecl:grn\\npid:541667478 hcl:#6b5442 byr:1992 hgt:155cm', 'hcl:2a1c4f iyr:2011\\nhgt:192cm eyr:2028 byr:2029 cid:270 ecl:dne pid:7995627426', 'byr:1929 ecl:oth\\npid:954905104 iyr:2016\\nhgt:68in hcl:#7d3b0c eyr:2020', 'cid:167 byr:2000 hgt:186cm iyr:2013 hcl:#ff4019 pid:384287209\\neyr:2024 ecl:amb', 'eyr:2022\\niyr:2018 byr:1972 cid:290\\nhgt:170cm ecl:grn pid:127269636', 'byr:1997\\necl:amb hgt:150cm\\npid:056368047 hcl:#fffffd eyr:2020 iyr:2020', 'ecl:gry hgt:167in byr:2020 cid:131 pid:651833067 hcl:#623a2f iyr:2027 eyr:2038', 'hcl:#56c370\\niyr:2014\\nbyr:1941\\npid:654258425 hgt:184cm\\neyr:2025 ecl:hzl', 'pid:571765355\\nbyr:2021\\nhcl:z\\neyr:1921 cid:106 iyr:1978\\necl:#1162c5\\nhgt:184in', 'iyr:2015 hcl:#18171d cid:237 pid:348578306 ecl:blu\\nbyr:1988 eyr:2025 hgt:155cm', 'byr:1963 hcl:#733820 cid:145 eyr:2030 ecl:oth pid:964094037 hgt:164cm iyr:2018', 'pid:595618708 ecl:amb\\nhcl:#866857\\nhgt:186cm eyr:2024 byr:1924 iyr:2014', 'ecl:hzl pid:484466493\\nhgt:176cm iyr:2016 byr:1983 hcl:#ceb3a1', 'ecl:gry hcl:#6b5442\\nhgt:185cm\\neyr:2029\\npid:045583320 byr:1974 iyr:2020', 'ecl:brn hcl:352cf1 cid:149\\nhgt:184cm byr:2011\\neyr:2031\\npid:21942403 iyr:2028', 'ecl:brn eyr:2029 pid:083295950 byr:1995 hgt:176cm hcl:#c0946f\\ncid:68 iyr:2014', 'hgt:170cm\\nbyr:1945 hcl:#623a2f\\niyr:2013 pid:912213595 ecl:gry eyr:2020', 'ecl:gry\\nhcl:#18171d iyr:2015 hgt:185cm eyr:2023\\nbyr:1950', 'byr:1997 hgt:68in pid:368643584 hcl:#623a2f ecl:hzl eyr:2029 iyr:2012\\ncid:239', 'iyr:2003 eyr:2020 cid:99 byr:2027 hcl:2c10a6 hgt:74cm\\necl:brn', 'pid:151cm hcl:46a5fd eyr:2031\\niyr:2014\\nbyr:2005 ecl:xry hgt:176cm', 'byr:2011 ecl:oth pid:821123244\\niyr:2022\\nhcl:839b47 eyr:2039 hgt:150in', 'pid:604669618 hgt:152cm iyr:2013\\nbyr:1954\\neyr:2021 ecl:amb hcl:#623a2f', 'hgt:182cm\\nbyr:1993\\ncid:177 hcl:#b6652a ecl:gry iyr:2011 pid:441649857 eyr:2027', 'cid:296 hgt:98\\necl:grt iyr:2028 hcl:#a97842 byr:2022\\npid:69736889 eyr:1935', 'iyr:2016 hcl:#cfa07d\\nbyr:1941\\nhgt:182cm\\npid:720595987 ecl:gry\\neyr:2022', 'iyr:2018 hgt:164cm hcl:#650d28 byr:1973 cid:108 pid:#b0df80 ecl:blu eyr:2020', 'hcl:z\\npid:315901778\\niyr:2013\\nbyr:1999 ecl:#49f691 eyr:2026 hgt:179cm', 'byr:1925\\npid:555786686 hgt:189cm hcl:#cfa07d iyr:2012 ecl:gry eyr:2028', 'iyr:2016\\nhgt:168cm\\neyr:2027 cid:60 ecl:gry hcl:#cfa07d\\npid:322944081 byr:1993', 'pid:163cm\\nhgt:189cm iyr:1997 hcl:03db25 eyr:1970\\nbyr:2016 ecl:#6c59eb', 'pid:766719295 iyr:2017\\nhgt:168cm\\nhcl:z ecl:grt\\neyr:2022 byr:2010', 'hgt:173cm pid:247156751 cid:109 eyr:2022 iyr:2012 ecl:gry byr:1989', 'cid:288\\nhcl:77241f\\nhgt:157cm byr:1956 pid:587115461 iyr:2016 ecl:lzr\\neyr:2034', 'hcl:5307c9 ecl:#cc4aff\\npid:#d80d30\\ncid:224 hgt:72cm byr:2025 eyr:2039 iyr:2025', 'eyr:2027 byr:2015\\nhgt:184 hcl:98fb9d pid:58151347\\niyr:2029', 'hgt:183cm cid:187 byr:2019 ecl:xry iyr:2013 pid:164cm hcl:#18171d eyr:2021']\n"
     ]
    }
   ],
   "source": [
    "print(data4)"
   ]
  },
  {
   "cell_type": "markdown",
   "metadata": {},
   "source": [
    "# Day 5\n",
    "###### Part 1"
   ]
  },
  {
   "cell_type": "code",
   "execution_count": 30,
   "metadata": {
    "scrolled": true
   },
   "outputs": [
    {
     "name": "stdout",
     "output_type": "stream",
     "text": [
      "874.0\n"
     ]
    }
   ],
   "source": [
    "day5data  = open(\"Data/day5values.txt\", \"r\") \n",
    "#make the array 2d\n",
    "data5 = day5data.read().split(\"\\n\")\n",
    "\n",
    "#print(data5)\n",
    "\n",
    "def binarySpacePartition(min, max, upLetter, downLetter, letters):\n",
    "    diff = (max + 1 - min) / 2\n",
    "    #print(min, max, diff)\n",
    "    \n",
    "    if downLetter in letters[0]:\n",
    "        if len(letters) > 1:\n",
    "            return binarySpacePartition(min, max - diff, upLetter, downLetter, letters[1:])\n",
    "        else:\n",
    "            return min \n",
    "        \n",
    "    elif upLetter in letters[0]:\n",
    "        if len(letters) > 1:\n",
    "            return binarySpacePartition(min + diff, max, upLetter, downLetter, letters[1:])\n",
    "        else:\n",
    "            return max\n",
    "    \n",
    "maxID = 0\n",
    "for value in data5:\n",
    "    a = binarySpacePartition(0, 127, \"B\", \"F\", value[0:7])\n",
    "    b = binarySpacePartition(0, 7, \"R\", \"L\", value[7:10])\n",
    "    temp = a * 8 + b\n",
    "    if temp > maxID:\n",
    "        maxID = temp\n",
    "\n",
    "print(maxID)\n"
   ]
  },
  {
   "cell_type": "markdown",
   "metadata": {},
   "source": [
    "# Part 2"
   ]
  },
  {
   "cell_type": "code",
   "execution_count": 32,
   "metadata": {},
   "outputs": [
    {
     "name": "stdout",
     "output_type": "stream",
     "text": [
      "593.0 595.0\n",
      "seat 594.0\n",
      "[48.0, 49.0, 50.0, 51.0, 52.0, 53.0, 54.0, 55.0, 56.0, 57.0, 58.0, 59.0, 60.0, 61.0, 62.0, 63.0, 64.0, 65.0, 66.0, 67.0, 68.0, 69.0, 70.0, 71.0, 72.0, 73.0, 74.0, 75.0, 76.0, 77.0, 78.0, 79.0, 80.0, 81.0, 82.0, 83.0, 84.0, 85.0, 86.0, 87.0, 88.0, 89.0, 90.0, 91.0, 92.0, 93.0, 94.0, 95.0, 96.0, 97.0, 98.0, 99.0, 100.0, 101.0, 102.0, 103.0, 104.0, 105.0, 106.0, 107.0, 108.0, 109.0, 110.0, 111.0, 112.0, 113.0, 114.0, 115.0, 116.0, 117.0, 118.0, 119.0, 120.0, 121.0, 122.0, 123.0, 124.0, 125.0, 126.0, 127.0, 128.0, 129.0, 130.0, 131.0, 132.0, 133.0, 134.0, 135.0, 136.0, 137.0, 138.0, 139.0, 140.0, 141.0, 142.0, 143.0, 144.0, 145.0, 146.0, 147.0, 148.0, 149.0, 150.0, 151.0, 152.0, 153.0, 154.0, 155.0, 156.0, 157.0, 158.0, 159.0, 160.0, 161.0, 162.0, 163.0, 164.0, 165.0, 166.0, 167.0, 168.0, 169.0, 170.0, 171.0, 172.0, 173.0, 174.0, 175.0, 176.0, 177.0, 178.0, 179.0, 180.0, 181.0, 182.0, 183.0, 184.0, 185.0, 186.0, 187.0, 188.0, 189.0, 190.0, 191.0, 192.0, 193.0, 194.0, 195.0, 196.0, 197.0, 198.0, 199.0, 200.0, 201.0, 202.0, 203.0, 204.0, 205.0, 206.0, 207.0, 208.0, 209.0, 210.0, 211.0, 212.0, 213.0, 214.0, 215.0, 216.0, 217.0, 218.0, 219.0, 220.0, 221.0, 222.0, 223.0, 224.0, 225.0, 226.0, 227.0, 228.0, 229.0, 230.0, 231.0, 232.0, 233.0, 234.0, 235.0, 236.0, 237.0, 238.0, 239.0, 240.0, 241.0, 242.0, 243.0, 244.0, 245.0, 246.0, 247.0, 248.0, 249.0, 250.0, 251.0, 252.0, 253.0, 254.0, 255.0, 256.0, 257.0, 258.0, 259.0, 260.0, 261.0, 262.0, 263.0, 264.0, 265.0, 266.0, 267.0, 268.0, 269.0, 270.0, 271.0, 272.0, 273.0, 274.0, 275.0, 276.0, 277.0, 278.0, 279.0, 280.0, 281.0, 282.0, 283.0, 284.0, 285.0, 286.0, 287.0, 288.0, 289.0, 290.0, 291.0, 292.0, 293.0, 294.0, 295.0, 296.0, 297.0, 298.0, 299.0, 300.0, 301.0, 302.0, 303.0, 304.0, 305.0, 306.0, 307.0, 308.0, 309.0, 310.0, 311.0, 312.0, 313.0, 314.0, 315.0, 316.0, 317.0, 318.0, 319.0, 320.0, 321.0, 322.0, 323.0, 324.0, 325.0, 326.0, 327.0, 328.0, 329.0, 330.0, 331.0, 332.0, 333.0, 334.0, 335.0, 336.0, 337.0, 338.0, 339.0, 340.0, 341.0, 342.0, 343.0, 344.0, 345.0, 346.0, 347.0, 348.0, 349.0, 350.0, 351.0, 352.0, 353.0, 354.0, 355.0, 356.0, 357.0, 358.0, 359.0, 360.0, 361.0, 362.0, 363.0, 364.0, 365.0, 366.0, 367.0, 368.0, 369.0, 370.0, 371.0, 372.0, 373.0, 374.0, 375.0, 376.0, 377.0, 378.0, 379.0, 380.0, 381.0, 382.0, 383.0, 384.0, 385.0, 386.0, 387.0, 388.0, 389.0, 390.0, 391.0, 392.0, 393.0, 394.0, 395.0, 396.0, 397.0, 398.0, 399.0, 400.0, 401.0, 402.0, 403.0, 404.0, 405.0, 406.0, 407.0, 408.0, 409.0, 410.0, 411.0, 412.0, 413.0, 414.0, 415.0, 416.0, 417.0, 418.0, 419.0, 420.0, 421.0, 422.0, 423.0, 424.0, 425.0, 426.0, 427.0, 428.0, 429.0, 430.0, 431.0, 432.0, 433.0, 434.0, 435.0, 436.0, 437.0, 438.0, 439.0, 440.0, 441.0, 442.0, 443.0, 444.0, 445.0, 446.0, 447.0, 448.0, 449.0, 450.0, 451.0, 452.0, 453.0, 454.0, 455.0, 456.0, 457.0, 458.0, 459.0, 460.0, 461.0, 462.0, 463.0, 464.0, 465.0, 466.0, 467.0, 468.0, 469.0, 470.0, 471.0, 472.0, 473.0, 474.0, 475.0, 476.0, 477.0, 478.0, 479.0, 480.0, 481.0, 482.0, 483.0, 484.0, 485.0, 486.0, 487.0, 488.0, 489.0, 490.0, 491.0, 492.0, 493.0, 494.0, 495.0, 496.0, 497.0, 498.0, 499.0, 500.0, 501.0, 502.0, 503.0, 504.0, 505.0, 506.0, 507.0, 508.0, 509.0, 510.0, 511.0, 512.0, 513.0, 514.0, 515.0, 516.0, 517.0, 518.0, 519.0, 520.0, 521.0, 522.0, 523.0, 524.0, 525.0, 526.0, 527.0, 528.0, 529.0, 530.0, 531.0, 532.0, 533.0, 534.0, 535.0, 536.0, 537.0, 538.0, 539.0, 540.0, 541.0, 542.0, 543.0, 544.0, 545.0, 546.0, 547.0, 548.0, 549.0, 550.0, 551.0, 552.0, 553.0, 554.0, 555.0, 556.0, 557.0, 558.0, 559.0, 560.0, 561.0, 562.0, 563.0, 564.0, 565.0, 566.0, 567.0, 568.0, 569.0, 570.0, 571.0, 572.0, 573.0, 574.0, 575.0, 576.0, 577.0, 578.0, 579.0, 580.0, 581.0, 582.0, 583.0, 584.0, 585.0, 586.0, 587.0, 588.0, 589.0, 590.0, 591.0, 592.0, 593.0, 595.0, 596.0, 597.0, 598.0, 599.0, 600.0, 601.0, 602.0, 603.0, 604.0, 605.0, 606.0, 607.0, 608.0, 609.0, 610.0, 611.0, 612.0, 613.0, 614.0, 615.0, 616.0, 617.0, 618.0, 619.0, 620.0, 621.0, 622.0, 623.0, 624.0, 625.0, 626.0, 627.0, 628.0, 629.0, 630.0, 631.0, 632.0, 633.0, 634.0, 635.0, 636.0, 637.0, 638.0, 639.0, 640.0, 641.0, 642.0, 643.0, 644.0, 645.0, 646.0, 647.0, 648.0, 649.0, 650.0, 651.0, 652.0, 653.0, 654.0, 655.0, 656.0, 657.0, 658.0, 659.0, 660.0, 661.0, 662.0, 663.0, 664.0, 665.0, 666.0, 667.0, 668.0, 669.0, 670.0, 671.0, 672.0, 673.0, 674.0, 675.0, 676.0, 677.0, 678.0, 679.0, 680.0, 681.0, 682.0, 683.0, 684.0, 685.0, 686.0, 687.0, 688.0, 689.0, 690.0, 691.0, 692.0, 693.0, 694.0, 695.0, 696.0, 697.0, 698.0, 699.0, 700.0, 701.0, 702.0, 703.0, 704.0, 705.0, 706.0, 707.0, 708.0, 709.0, 710.0, 711.0, 712.0, 713.0, 714.0, 715.0, 716.0, 717.0, 718.0, 719.0, 720.0, 721.0, 722.0, 723.0, 724.0, 725.0, 726.0, 727.0, 728.0, 729.0, 730.0, 731.0, 732.0, 733.0, 734.0, 735.0, 736.0, 737.0, 738.0, 739.0, 740.0, 741.0, 742.0, 743.0, 744.0, 745.0, 746.0, 747.0, 748.0, 749.0, 750.0, 751.0, 752.0, 753.0, 754.0, 755.0, 756.0, 757.0, 758.0, 759.0, 760.0, 761.0, 762.0, 763.0, 764.0, 765.0, 766.0, 767.0, 768.0, 769.0, 770.0, 771.0, 772.0, 773.0, 774.0, 775.0, 776.0, 777.0, 778.0, 779.0, 780.0, 781.0, 782.0, 783.0, 784.0, 785.0, 786.0, 787.0, 788.0, 789.0, 790.0, 791.0, 792.0, 793.0, 794.0, 795.0, 796.0, 797.0, 798.0, 799.0, 800.0, 801.0, 802.0, 803.0, 804.0, 805.0, 806.0, 807.0, 808.0, 809.0, 810.0, 811.0, 812.0, 813.0, 814.0, 815.0, 816.0, 817.0, 818.0, 819.0, 820.0, 821.0, 822.0, 823.0, 824.0, 825.0, 826.0, 827.0, 828.0, 829.0, 830.0, 831.0, 832.0, 833.0, 834.0, 835.0, 836.0, 837.0, 838.0, 839.0, 840.0, 841.0, 842.0, 843.0, 844.0, 845.0, 846.0, 847.0, 848.0, 849.0, 850.0, 851.0, 852.0, 853.0, 854.0, 855.0, 856.0, 857.0, 858.0, 859.0, 860.0, 861.0, 862.0, 863.0, 864.0, 865.0, 866.0, 867.0, 868.0, 869.0, 870.0, 871.0, 872.0, 873.0, 874.0]\n"
     ]
    }
   ],
   "source": [
    "maxID = []\n",
    "for value in data5:\n",
    "    a = binarySpacePartition(0, 127, \"B\", \"F\", value[0:7])\n",
    "    b = binarySpacePartition(0, 7, \"R\", \"L\", value[7:10])\n",
    "    temp = a * 8 + b\n",
    "    maxID.append(temp)\n",
    "\n",
    "maxID.sort()\n",
    "prev = -1\n",
    "fount = 0\n",
    "for value in maxID:\n",
    "    if prev == -1 or prev + 1 == value:\n",
    "        prev = value\n",
    "    elif prev + 1 != value:\n",
    "        print(prev, value)\n",
    "        print(\"seat\", prev + 1)\n",
    "        break\n",
    "\n",
    "print(maxID)"
   ]
  },
  {
   "cell_type": "code",
   "execution_count": null,
   "metadata": {},
   "outputs": [],
   "source": []
  }
 ],
 "metadata": {
  "kernelspec": {
   "display_name": "Python 3",
   "language": "python",
   "name": "python3"
  },
  "language_info": {
   "codemirror_mode": {
    "name": "ipython",
    "version": 3
   },
   "file_extension": ".py",
   "mimetype": "text/x-python",
   "name": "python",
   "nbconvert_exporter": "python",
   "pygments_lexer": "ipython3",
   "version": "3.7.7"
  }
 },
 "nbformat": 4,
 "nbformat_minor": 4
}
