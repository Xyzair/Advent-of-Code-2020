{
 "cells": [
  {
   "cell_type": "markdown",
   "metadata": {},
   "source": [
    "# Day 1\n",
    "###### Part 1\n",
    "<https://adventofcode.com/2020>"
   ]
  },
  {
   "cell_type": "code",
   "execution_count": 1,
   "metadata": {},
   "outputs": [
    {
     "name": "stdout",
     "output_type": "stream",
     "text": [
      "Data Loaded Successfully\n",
      "Data Sorted Successfully\n"
     ]
    }
   ],
   "source": [
    "day1data  = open(\"Data/day1values.txt\", \"r\") \n",
    "\n",
    "data = day1data.read().split()\n",
    "\n",
    "for i, value in enumerate(data):\n",
    "    data[i] = int(value)\n",
    "print(\"Data Loaded Successfully\")\n",
    "\n",
    "data.sort()\n",
    "\n",
    "print(\"Data Sorted Successfully\")"
   ]
  },
  {
   "cell_type": "code",
   "execution_count": 2,
   "metadata": {},
   "outputs": [
    {
     "name": "stdout",
     "output_type": "stream",
     "text": [
      "440979 == 249 * 1771\n"
     ]
    }
   ],
   "source": [
    "answer = 0\n",
    "for value in data:\n",
    "    for value2 in data:\n",
    "        if value != value2 and value + value2 == 2020:\n",
    "            answer = value * value2\n",
    "            print(answer, \"==\", value, \"*\", value2)\n",
    "            break\n",
    "        if answer != 0:\n",
    "            break"
   ]
  },
  {
   "cell_type": "markdown",
   "metadata": {},
   "source": [
    "### Part 2"
   ]
  },
  {
   "cell_type": "code",
   "execution_count": 3,
   "metadata": {},
   "outputs": [
    {
     "name": "stdout",
     "output_type": "stream",
     "text": [
      "82498112 == 194 * 274 * 1552\n"
     ]
    }
   ],
   "source": [
    "answer = 0\n",
    "for value in data:\n",
    "    for value2 in data:\n",
    "        for value3 in data:\n",
    "            if value != value2 and value + value2 + value3 == 2020:\n",
    "                answer = value * value2 * value3\n",
    "                print(answer, \"==\", value, \"*\", value2, \"*\", value3)\n",
    "                break\n",
    "            elif(value + value2 + value3 > 2020):\n",
    "                break\n",
    "        if answer != 0:\n",
    "            break"
   ]
  },
  {
   "cell_type": "markdown",
   "metadata": {},
   "source": [
    "# Day 2\n",
    "###### Part 1"
   ]
  },
  {
   "cell_type": "code",
   "execution_count": 4,
   "metadata": {},
   "outputs": [
    {
     "name": "stdout",
     "output_type": "stream",
     "text": [
      "The number of valid passwords is: 378\n"
     ]
    }
   ],
   "source": [
    "day2data  = open(\"Data/day2input.txt\", \"r\") \n",
    "\n",
    "data2 = day2data.read().split(\"\\n\")\n",
    "d2size = len(data2)\n",
    "#print(d2size)\n",
    "number = []\n",
    "letter = []\n",
    "password = []\n",
    "for i, value in enumerate(data2):\n",
    "    #print(value)\n",
    "    \n",
    "    temp = value.split()\n",
    "    #print(i, temp)\n",
    "    number.append(temp[0])\n",
    "    letter.append(temp[1])\n",
    "    password.append(temp[2])\n",
    "#print(number)\n",
    "\n",
    "def passwordcheck(number, letter, password, size):\n",
    "    valid = 0\n",
    "    for i in range(size):\n",
    "        count = password[i].count(letter[i][0])\n",
    "        \n",
    "        nums = number[i].split(\"-\")\n",
    "        num1 = int(nums[0])\n",
    "        num2 = int(nums[1])\n",
    "        #print(password[i], letter[i][0], count, num1, num2)\n",
    "        if(num1 <= count and count <= num2): \n",
    "            valid += 1\n",
    "    return valid\n",
    "        \n",
    "print(\"The number of valid passwords is:\", passwordcheck(number, letter, password, d2size))"
   ]
  },
  {
   "cell_type": "markdown",
   "metadata": {},
   "source": [
    "### Part 2"
   ]
  },
  {
   "cell_type": "code",
   "execution_count": 5,
   "metadata": {},
   "outputs": [
    {
     "name": "stdout",
     "output_type": "stream",
     "text": [
      "The number of valid passwords is: 280\n"
     ]
    }
   ],
   "source": [
    "def passwordcheckp2(number, letter, password, size):\n",
    "    valid = 0\n",
    "    for i in range(size):\n",
    "        count = 0\n",
    "        nums = number[i].split(\"-\")\n",
    "        num1 = int(nums[0])\n",
    "        num2 = int(nums[1])\n",
    "        #print(password[i], letter[i][0], num1, num2)\n",
    "        if(len(password[i]) < num2):\n",
    "            break\n",
    "        if(password[i][num1 - 1] == letter[i][0]):\n",
    "            count += 1\n",
    "        if(password[i][num2 - 1] == letter[i][0]):\n",
    "            count += 1\n",
    "        if(count == 1): \n",
    "            valid += 1\n",
    "    return valid\n",
    "\n",
    "print(\"The number of valid passwords is:\", passwordcheckp2(number, letter, password, d2size))"
   ]
  },
  {
   "cell_type": "markdown",
   "metadata": {},
   "source": [
    "# Day 3 \n",
    "###### Part 1"
   ]
  },
  {
   "cell_type": "code",
   "execution_count": 6,
   "metadata": {},
   "outputs": [
    {
     "name": "stdout",
     "output_type": "stream",
     "text": [
      "Hit 216 trees on the way down\n"
     ]
    }
   ],
   "source": [
    "day3data  = open(\"Data/day3values.txt\", \"r\") \n",
    "#make the array 2d\n",
    "data3 = day3data.read().split(\"\\n\")\n",
    "\n",
    "#Movement Translation\n",
    "x = 3\n",
    "y = 1\n",
    "def toboggan(x,y):\n",
    "    #current location\n",
    "    #[0] = x  [1] = y\n",
    "    pos = [0,0]\n",
    "\n",
    "    width = len(data3[0])\n",
    "    height = len(data3)\n",
    "    #print(width, height)\n",
    "\n",
    "    tree = 0\n",
    "\n",
    "    while pos[1] < height:\n",
    "        #print(pos)\n",
    "        if(data3[pos[1]][pos[0]] == \"#\"):\n",
    "            tree += 1\n",
    "        pos[0] = (pos[0] + x) % width\n",
    "        pos[1] += y\n",
    "    return tree\n",
    "print(\"Hit\", toboggan(x,y), \"trees on the way down\")"
   ]
  },
  {
   "cell_type": "markdown",
   "metadata": {},
   "source": [
    "### Part 2"
   ]
  },
  {
   "cell_type": "code",
   "execution_count": 7,
   "metadata": {},
   "outputs": [
    {
     "name": "stdout",
     "output_type": "stream",
     "text": [
      "6708199680\n"
     ]
    }
   ],
   "source": [
    "values = [[1,1],\n",
    "          [3,1],\n",
    "          [5,1],\n",
    "          [7,1],\n",
    "          [1,2]]\n",
    "answer = 1\n",
    "for value in values:\n",
    "    #print(value, toboggan(value[0], value[1]))\n",
    "    answer *= toboggan(value[0], value[1])\n",
    "    \n",
    "print(answer)"
   ]
  },
  {
   "cell_type": "markdown",
   "metadata": {},
   "source": [
    "# Day 4\n",
    "###### Part 1"
   ]
  },
  {
   "cell_type": "code",
   "execution_count": 8,
   "metadata": {
    "scrolled": false
   },
   "outputs": [
    {
     "name": "stdout",
     "output_type": "stream",
     "text": [
      "There are 219 passports that appear to be valid\n"
     ]
    }
   ],
   "source": [
    "day4data  = open(\"Data/day4values.txt\", \"r\") \n",
    "#make the array 2d\n",
    "data4 = day4data.read().split(\"\\n\\n\")\n",
    "\n",
    "for i, value in enumerate(data4):\n",
    "    data4[i] = value.replace('\\n', ' ')\n",
    "\n",
    "#print(data4)\n",
    "length4 = len(data4)\n",
    "ans = 0\n",
    "\n",
    "for value in data4:\n",
    "    if \"byr\" in value and \"iyr\" in value and \"eyr\" in value and \"hgt\" in value and \"hcl\" in value and \"ecl\" in value and \"pid\" in value:\n",
    "           ans += 1\n",
    "       \n",
    "print(\"There are\", ans, \"passports that appear to be valid\")"
   ]
  },
  {
   "cell_type": "markdown",
   "metadata": {},
   "source": [
    "### Part 2"
   ]
  },
  {
   "cell_type": "code",
   "execution_count": 9,
   "metadata": {
    "scrolled": true
   },
   "outputs": [
    {
     "name": "stdout",
     "output_type": "stream",
     "text": [
      "There are 127 valid passports\n"
     ]
    }
   ],
   "source": [
    "import re\n",
    "\n",
    "def yearCheck(min, max, find, value):\n",
    "    byr = value.find(find)\n",
    "    temp = int(value[byr+4:byr+8])\n",
    "    if(min <= temp <= max):\n",
    "        return 1\n",
    "    #print(byr)\n",
    "    return 0\n",
    "\n",
    "def heightCheck(value):\n",
    "    hgt = value.find(\"hgt\")\n",
    "    hgtt = value[hgt+4 : hgt+9]\n",
    "    score = 0\n",
    "    \n",
    "    if \"in\" in hgtt:\n",
    "        temp = int(value[hgt+4 : hgt+6])\n",
    "        if(59 <= temp <= 76):\n",
    "            score += 1\n",
    "    elif (\"cm\" in hgtt):\n",
    "        if(\"c\" not in hgtt[0:3]):\n",
    "            temp = int(value[hgt+4 : hgt+7])\n",
    "            if(150 <= temp <= 193):\n",
    "                score += 1\n",
    "                          \n",
    "    return score\n",
    "\n",
    "def eyeColor(value):\n",
    "    #ecl\n",
    "    ecl = value.find(\"ecl\")\n",
    "    ecll = value[ecl+4 :ecl + 7 ]\n",
    "    score =0\n",
    "#   print(ecll)\n",
    "    eyecolors = [\"amb\", \"blu\", \"brn\", \"gry\", \"grn\",\"hzl\", \"oth\"]\n",
    "    if ecll in eyecolors:\n",
    "        score += 1\n",
    "        #print(ecll)\n",
    "    return score\n",
    "\n",
    "ans = 0\n",
    "valid = []\n",
    "for value in data4:\n",
    "    if \"byr\" in value and \"iyr\" in value and \"eyr\" in value and \"hgt\" in value and \"hcl\" in value and \"ecl\" in value and \"pid\" in value:\n",
    "        score = 0\n",
    "        \n",
    "        #birth year\n",
    "        score += yearCheck(1920, 2002, \"byr\", value)\n",
    "        #issued year\n",
    "        score += yearCheck(2010, 2020, \"iyr\", value)\n",
    "        #expiration year\n",
    "        score += yearCheck(2020, 2030, \"eyr\", value)\n",
    "\n",
    "        if score < 3:\n",
    "            continue\n",
    "        \n",
    "        score += heightCheck(value)\n",
    "        score+= eyeColor(value)\n",
    "        \n",
    "        if score < 5:\n",
    "            continue\n",
    "                \n",
    "        #hcl\n",
    "        hcl = re.findall(\"hcl:#[0-9, a-f]{6}\", value)\n",
    "        if(hcl != []):\n",
    "            #print(hcl)\n",
    "            score += 1\n",
    "        else:\n",
    "            continue\n",
    "            \n",
    "        #pid\n",
    "#         print(value)\n",
    "        pid = re.findall(\"pid:\\d*\", value)\n",
    "        if(pid != []):\n",
    "            if(len(pid[0]) == 13):\n",
    "                score += 1\n",
    "        else:\n",
    "            continue\n",
    "\n",
    "        if(score >= 7):\n",
    "            ans += 1\n",
    "                            \n",
    "print(\"There are\", ans, \"valid passports\")"
   ]
  },
  {
   "cell_type": "markdown",
   "metadata": {},
   "source": [
    "# Day 5\n",
    "###### Part 1"
   ]
  },
  {
   "cell_type": "code",
   "execution_count": 10,
   "metadata": {
    "scrolled": true
   },
   "outputs": [
    {
     "name": "stdout",
     "output_type": "stream",
     "text": [
      "The highest seat ID is: 874.0\n"
     ]
    }
   ],
   "source": [
    "day5data  = open(\"Data/day5values.txt\", \"r\") \n",
    "#make the array 2d\n",
    "data5 = day5data.read().split(\"\\n\")\n",
    "\n",
    "#print(data5)\n",
    "\n",
    "def binarySpacePartition(min, max, upLetter, downLetter, letters):\n",
    "    diff = (max + 1 - min) / 2\n",
    "    #print(min, max, diff)\n",
    "    \n",
    "    if downLetter in letters[0]:\n",
    "        if len(letters) > 1:\n",
    "            return binarySpacePartition(min, max - diff, upLetter, downLetter, letters[1:])\n",
    "        else:\n",
    "            return min \n",
    "        \n",
    "    elif upLetter in letters[0]:\n",
    "        if len(letters) > 1:\n",
    "            return binarySpacePartition(min + diff, max, upLetter, downLetter, letters[1:])\n",
    "        else:\n",
    "            return max\n",
    "    \n",
    "maxID = 0\n",
    "for value in data5:\n",
    "    a = binarySpacePartition(0, 127, \"B\", \"F\", value[0:7])\n",
    "    b = binarySpacePartition(0, 7, \"R\", \"L\", value[7:10])\n",
    "    temp = a * 8 + b\n",
    "    if temp > maxID:\n",
    "        maxID = temp\n",
    "\n",
    "print(\"The highest seat ID is:\", maxID)"
   ]
  },
  {
   "cell_type": "markdown",
   "metadata": {},
   "source": [
    "### Part 2"
   ]
  },
  {
   "cell_type": "code",
   "execution_count": 11,
   "metadata": {},
   "outputs": [
    {
     "name": "stdout",
     "output_type": "stream",
     "text": [
      "593.0 595.0\n",
      "The open seat is at: 594.0\n"
     ]
    }
   ],
   "source": [
    "maxID = []\n",
    "for value in data5:\n",
    "    a = binarySpacePartition(0, 127, \"B\", \"F\", value[0:7])\n",
    "    b = binarySpacePartition(0, 7, \"R\", \"L\", value[7:10])\n",
    "    temp = a * 8 + b\n",
    "    maxID.append(temp)\n",
    "\n",
    "maxID.sort()\n",
    "prev = -1\n",
    "fount = 0\n",
    "for value in maxID:\n",
    "    if prev == -1 or prev + 1 == value:\n",
    "        prev = value\n",
    "    elif prev + 1 != value:\n",
    "        print(prev, value)\n",
    "        print(\"The open seat is at:\", prev + 1)\n",
    "        break\n",
    "\n",
    "#print(maxID)"
   ]
  },
  {
   "cell_type": "markdown",
   "metadata": {},
   "source": [
    "# Day 6\n",
    "###### Part 1"
   ]
  },
  {
   "cell_type": "code",
   "execution_count": 12,
   "metadata": {},
   "outputs": [
    {
     "name": "stdout",
     "output_type": "stream",
     "text": [
      "Total number of questions answered Yes: 6291\n"
     ]
    }
   ],
   "source": [
    "day6data  = open(\"Data/day6values.txt\", \"r\") \n",
    "#make the array 2d\n",
    "data6 = day6data.read().split(\"\\n\\n\")\n",
    "\n",
    "for i, value in enumerate(data6):\n",
    "    data6[i] = value.replace('\\n', '')\n",
    "\n",
    "#print(data6[0])\n",
    "\n",
    "total = {}\n",
    "values = []\n",
    "for value in enumerate(data6):\n",
    "    dict={}\n",
    "    #print(\"value\", value)\n",
    "    for char in value[1]:\n",
    "        #print(\"char\", char)\n",
    "        dict[char] = 1\n",
    "        \n",
    "    values.append(dict)\n",
    "    for letter in dict:\n",
    "        if letter in total:\n",
    "            total[letter] += 1\n",
    "        else:\n",
    "            total[letter] = 1\n",
    "            \n",
    "#print(total)\n",
    "sum = 0\n",
    "for value in total:\n",
    "    sum += total[value]\n",
    "\n",
    "#print(values)\n",
    "print(\"Total number of questions answered Yes:\", sum)"
   ]
  },
  {
   "cell_type": "markdown",
   "metadata": {},
   "source": [
    "### Part 2"
   ]
  },
  {
   "cell_type": "code",
   "execution_count": 13,
   "metadata": {
    "scrolled": true
   },
   "outputs": [
    {
     "name": "stdout",
     "output_type": "stream",
     "text": [
      "Number questions that everyone in a group answered yes: 3052\n"
     ]
    }
   ],
   "source": [
    "day6data  = open(\"Data/day6values.txt\", \"r\") \n",
    "#make the array 2d\n",
    "data6 = day6data.read().split(\"\\n\\n\")\n",
    "\n",
    "#This is dependent on values from the previous code block\n",
    "\n",
    "#print(data6)\n",
    "total = 0\n",
    "for i, value in enumerate(data6):\n",
    "    \n",
    "    #Get the data split per person\n",
    "    temp = value.strip().split(\"\\n\")\n",
    "    #print(\"temp\", temp)\n",
    "    \n",
    "    for value1 in values[i]:\n",
    "        #grab the useful letters\n",
    "        #print(\"value:\", value1)\n",
    "        \n",
    "        if type(value1) == int:\n",
    "            continue\n",
    "        useful = value1\n",
    "        #print(\"useful\", useful)\n",
    "        valid = 1\n",
    "        \n",
    "        for entry in temp:\n",
    "            #print(useful)\n",
    "            for char in useful[0]:\n",
    "                if char not in entry:\n",
    "                    valid = 0\n",
    "        if valid:\n",
    "            total += 1\n",
    "            #print(\"valid\", total)\n",
    "    #print(temp)\n",
    "print(\"Number questions that everyone in a group answered yes:\", total)"
   ]
  },
  {
   "cell_type": "markdown",
   "metadata": {},
   "source": [
    "# Day 7"
   ]
  },
  {
   "cell_type": "code",
   "execution_count": 14,
   "metadata": {
    "scrolled": true
   },
   "outputs": [
    {
     "name": "stdout",
     "output_type": "stream",
     "text": [
      "Questionable dictionary of dictionaries has been created\n"
     ]
    }
   ],
   "source": [
    "import re\n",
    "\n",
    "day7data  = open(\"Data/day7values.txt\", \"r\") \n",
    "#make the array 2d\n",
    "data7 = day7data.read().split(\"\\n\")\n",
    "\n",
    "#print(data7)\n",
    "\n",
    "rules = {}\n",
    "#Haha I made a dictionary tree\n",
    "def parser(sentence):\n",
    "    #print(\"sent\", sentence)\n",
    "    rule = re.findall(\"^[a-z]+\\s[a-z]+\", sentence)\n",
    "    #print(rule)\n",
    "    contain = re.findall(\"\\d\\s[a-z]+\\s[a-z]+\", sentence)\n",
    "    #print(\"CONTAINS\", contain)\n",
    "    count = 0\n",
    "    for word in contain:\n",
    "#         print(\"CONTAINS\", contain)\n",
    "        #print(\"care\", word[2:len(word)],\":\", word[0])\n",
    "        temp = {word[2:]: int(word[0])}\n",
    "#         print(temp)\n",
    "        #print(\"RULES\", rule[0])\n",
    "        if count == 0:\n",
    "            rules[rule[0][0:len(rule[0])]] = temp\n",
    "#             print(\"1\", rules[rule[0][0:len(rule[0])]])\n",
    "            count += 1\n",
    "        else:\n",
    "            rules[rule[0][0:len(rule[0])]].update(temp)\n",
    "#             print(\"2\", rules[rule[0][0:len(rule[0])]])\n",
    "    \n",
    "    \n",
    "for rule in data7:\n",
    "    parser(rule)\n",
    "    \n",
    "print(\"Questionable dictionary of dictionaries has been created\")"
   ]
  },
  {
   "cell_type": "markdown",
   "metadata": {},
   "source": [
    "###### Part 1"
   ]
  },
  {
   "cell_type": "code",
   "execution_count": 15,
   "metadata": {},
   "outputs": [
    {
     "name": "stdout",
     "output_type": "stream",
     "text": [
      "142 different colored bags can contain the shiny gold bag\n"
     ]
    }
   ],
   "source": [
    "trules = rules\n",
    "containsBag = {}\n",
    "bagv2 = []\n",
    "\n",
    "for rule in trules:\n",
    "    #print(rules[rule])\n",
    "    for value in trules[rule]:\n",
    "        #print(value)\n",
    "        if 'shiny gold' in value:\n",
    "#             print(\"VALID RULE\", rule, \"VAlue\", trules[rule])\n",
    "            containsBag[rule] = 1\n",
    "                \n",
    "def containsAll(bags, rules, count):\n",
    "    \n",
    "    #print(\"BAGS\", bags)\n",
    "    tempBag={}\n",
    "    for bag in bags:\n",
    "        for rule in rules:\n",
    "            #print(rules[rule])\n",
    "            for value in rules[rule]:\n",
    "                #print(value)\n",
    "                if bag in value:\n",
    "#                     print(\"VALID RULE\", rule, \"BAG:\", bag)\n",
    "                    tempBag[rule] = 1\n",
    "    for value in tempBag:\n",
    "        bags[value] = 1\n",
    "    if len(bags) != count:\n",
    "        containsAll(bags, rules, len(bags))\n",
    "\n",
    "    \n",
    "#print(\"containsBag\", containsBag)\n",
    "\n",
    "containsAll(containsBag, rules, 0)\n",
    "\n",
    "total = len(containsBag) + len(bagv2)\n",
    "print(total, \"different colored bags can contain the shiny gold bag\")"
   ]
  },
  {
   "cell_type": "markdown",
   "metadata": {},
   "source": [
    "### Part 2"
   ]
  },
  {
   "cell_type": "code",
   "execution_count": 16,
   "metadata": {
    "scrolled": true
   },
   "outputs": [
    {
     "name": "stdout",
     "output_type": "stream",
     "text": [
      "Total number of bags in the shiny gold bag is: 10219\n"
     ]
    }
   ],
   "source": [
    "def recurse(find):\n",
    "    total = 0\n",
    "    #do the bags exist?\n",
    "    if find in rules:\n",
    "        for rule in rules[find]:\n",
    "            #Do the sub bags exist?\n",
    "#             print(rules[find])\n",
    "#             print(\"RULE\", rule, rules[find][rule])\n",
    "            total += rules[find][rule] * recurse(rule) + rules[find][rule]\n",
    "#             print(\"After Recursion Total\",\"x\",rules[find][rule],\"+\", rules[find][rule], \"=\", total, rule,\"\\t\\tIN BAG\", find)\n",
    "           \n",
    "    else:\n",
    "#         print(find, \"0\")\n",
    "        return 0\n",
    "            \n",
    "#     print(\"Final Total\", total)\n",
    "    return total\n",
    "\n",
    "print(\"Total number of bags in the shiny gold bag is:\", recurse(\"shiny gold\"))"
   ]
  },
  {
   "cell_type": "markdown",
   "metadata": {},
   "source": [
    "# Day 8\n",
    "###### Part 1"
   ]
  },
  {
   "cell_type": "code",
   "execution_count": 17,
   "metadata": {},
   "outputs": [
    {
     "name": "stdout",
     "output_type": "stream",
     "text": [
      "['acc -7', 'acc +2', 'acc +20', 'acc +14', 'jmp +191', 'acc +47', 'nop +339', 'acc +49', 'jmp +104', 'jmp +629']\n"
     ]
    }
   ],
   "source": [
    "day8data  = open(\"Data/day8values.txt\", \"r\") \n",
    "#make the array 2d\n",
    "data8 = day8data.read().split(\"\\n\")\n",
    "\n",
    "print(data8[0:10])"
   ]
  },
  {
   "cell_type": "code",
   "execution_count": 18,
   "metadata": {},
   "outputs": [
    {
     "name": "stdout",
     "output_type": "stream",
     "text": [
      "Infinite loop starts at line 296\n",
      "Answer: Accumulator is 1594\n"
     ]
    }
   ],
   "source": [
    "currentlocation = 0\n",
    "acc = 0\n",
    "ran = []\n",
    "\n",
    "while(currentlocation < len(data8)):\n",
    "    \n",
    "    if(currentlocation not in ran):\n",
    "        ran.append(currentlocation)\n",
    "    else:\n",
    "        print(\"Infinite loop starts at line\", currentlocation)\n",
    "        break\n",
    "    \n",
    "    if(currentlocation < 0):\n",
    "        currentlocation = 0\n",
    "    \n",
    "    temp = data8[currentlocation].split(\" \")\n",
    "    command = temp[0]\n",
    "    number = int(temp[1])\n",
    "#     print(command, number)\n",
    "    \n",
    "    if 'acc' in command:\n",
    "        acc += number\n",
    "    elif 'jmp' in command:\n",
    "#         if(number < 0):\n",
    "#             print(\"\\nLoop?\", acc)\n",
    "        currentlocation += number\n",
    "        continue\n",
    "    \n",
    "    currentlocation += 1\n",
    "    \n",
    "print(\"Answer: Accumulator is\", acc)"
   ]
  },
  {
   "cell_type": "markdown",
   "metadata": {},
   "source": [
    "### Part 2"
   ]
  },
  {
   "cell_type": "code",
   "execution_count": 19,
   "metadata": {},
   "outputs": [
    {
     "name": "stdout",
     "output_type": "stream",
     "text": [
      "TRUE ANSWER: 758\n",
      "found the error at instruction# 364\n",
      "updating data at line 364 ( jmp -304 )\n"
     ]
    }
   ],
   "source": [
    "import copy\n",
    "\n",
    "def bytecoderun(data8, currentlocation, acc):\n",
    "    currentlocation = 0\n",
    "    acc = 0\n",
    "    ran = []\n",
    "\n",
    "    while(currentlocation < len(data8)):\n",
    "\n",
    "        if(currentlocation not in ran):\n",
    "            ran.append(currentlocation)\n",
    "        else:\n",
    "            return 0\n",
    "\n",
    "        if(currentlocation < 0):\n",
    "            currentlocation = 0\n",
    "\n",
    "        temp = data8[currentlocation].split(\" \")\n",
    "        command = temp[0]\n",
    "        number = int(temp[1])\n",
    "\n",
    "        if 'acc' in command:\n",
    "            acc += number\n",
    "        elif 'jmp' in command:\n",
    "            currentlocation += number\n",
    "            continue\n",
    "\n",
    "\n",
    "        currentlocation += 1\n",
    "    print(\"TRUE ANSWER:\", acc)\n",
    "    return 1\n",
    "\n",
    "def bytecode(data8, currentlocation, acc):\n",
    "    \n",
    "    acc = 0\n",
    "    ran = []\n",
    "\n",
    "    while(currentlocation < len(data8)):\n",
    "\n",
    "        if(currentlocation not in ran):\n",
    "            ran.append(currentlocation)\n",
    "        else:\n",
    "            break\n",
    "\n",
    "        if(currentlocation < 0):\n",
    "            currentlocation = 0\n",
    "\n",
    "        temp = data8[currentlocation].split(\" \")\n",
    "        command = temp[0]\n",
    "        number = int(temp[1])\n",
    "\n",
    "        if 'acc' in command:\n",
    "            acc += number\n",
    "\n",
    "        elif 'jmp' in command:\n",
    "            \n",
    "            fake = copy.deepcopy(data8)\n",
    "            \n",
    "            changedcode = \"nop \" + temp[1]\n",
    "            fake[currentlocation] = changedcode\n",
    "            #print(\"going in\")\n",
    "            if bytecoderun(fake, 0, acc):\n",
    "                print(\"found the error at instruction#\", currentlocation)\n",
    "                print(\"updating data at line\",currentlocation,\"(\", data8[currentlocation],\")\")\n",
    "                data8[currentlocation] = changedcode\n",
    "                continue\n",
    "            \n",
    "            currentlocation += number\n",
    "            continue\n",
    "            \n",
    "        elif 'nop' in command:\n",
    "            \n",
    "            fake = copy.deepcopy(data8)\n",
    "            \n",
    "            changedcode = \"jmp \" + temp[1]\n",
    "            fake[currentlocation] = changedcode\n",
    "            #print(\"going in\")\n",
    "            if bytecoderun(fake, currentlocation, acc):\n",
    "                print(\"found the error at instructions#\", currentlocation)\n",
    "                print(\"updating data at line\", 0,\"(\", data8[currentlocation],\")\")\n",
    "                data8[currentlocation] = changedcode\n",
    "                continue\n",
    "\n",
    "        currentlocation += 1 \n",
    "\n",
    "bytecode(data8, 0,0)"
   ]
  },
  {
   "cell_type": "markdown",
   "metadata": {},
   "source": [
    "# Day 9\n",
    "###### Part 1"
   ]
  },
  {
   "cell_type": "code",
   "execution_count": 20,
   "metadata": {},
   "outputs": [
    {
     "name": "stdout",
     "output_type": "stream",
     "text": [
      "[17, 14, 2, 35, 39, 31, 5, 25, 1, 29]\n"
     ]
    }
   ],
   "source": [
    "day9data  = open(\"Data/day9values.txt\", \"r\") \n",
    "#make the array 2d\n",
    "data9 = day9data.read().split(\"\\n\")\n",
    "\n",
    "for i, value in enumerate(data9):\n",
    "    data9[i] = int(value)\n",
    "\n",
    "print(data9[0:10])"
   ]
  },
  {
   "cell_type": "code",
   "execution_count": 21,
   "metadata": {},
   "outputs": [
    {
     "name": "stdout",
     "output_type": "stream",
     "text": [
      "invalid at line 500 value 10884537\n"
     ]
    }
   ],
   "source": [
    "preamble = 25\n",
    "\n",
    "invalidNum = 0\n",
    "\n",
    "i = preamble\n",
    "while i < len(data9):\n",
    "    valid = 0\n",
    "    for value1 in data9[i-preamble:i]:\n",
    "        for value2 in data9[i-preamble:i]:\n",
    "            if value1 == value2:\n",
    "                continue\n",
    "            if value1 + value2 == data9[i]:\n",
    "                i+=1\n",
    "                valid = 1\n",
    "                continue\n",
    "        if valid:\n",
    "            continue\n",
    "    if valid == 0:\n",
    "        invalidNum = data9[i]\n",
    "        print(\"invalid at line\", i, \"value\", invalidNum)\n",
    "        break"
   ]
  },
  {
   "cell_type": "markdown",
   "metadata": {},
   "source": [
    "### Part 2"
   ]
  },
  {
   "cell_type": "code",
   "execution_count": 22,
   "metadata": {},
   "outputs": [
    {
     "name": "stdout",
     "output_type": "stream",
     "text": [
      "386 + 402 = 10884537\n",
      "total: 10884537 = 10884537 (invalidNum)\n",
      "386 + 402 = 10884537\n",
      "min value 408514 + max value 852795 = 1261309\n"
     ]
    }
   ],
   "source": [
    "start = 0\n",
    "end = 0\n",
    "reset = 0\n",
    "for i, value1 in enumerate(data9):\n",
    "    if value1 > invalidNum:\n",
    "        continue\n",
    "    start = i\n",
    "    total = value1\n",
    "    for j, value2 in enumerate(data9):\n",
    "        if i == j or j < i:\n",
    "            continue\n",
    "        \n",
    "        total += value2\n",
    "        #print(value1, value2, total)\n",
    "        if total > invalidNum:\n",
    "            #print(\"too large\")\n",
    "            break\n",
    "            \n",
    "        if total == invalidNum:    \n",
    "            end = j\n",
    "            break\n",
    "    if end:\n",
    "        break\n",
    "            \n",
    "\n",
    "print(start, \"+\", end, \"=\", invalidNum)\n",
    "print(\"total:\", total, \"=\", invalidNum, \"(invalidNum)\")\n",
    "print(start, \"+\", end, \"=\", invalidNum)   \n",
    "\n",
    "\n",
    "mini = min(data9[start:end])\n",
    "maxi = max(data9[start:end])\n",
    "print(\"min value\", mini,\"+ max value\", maxi, \"=\", mini + maxi)"
   ]
  },
  {
   "cell_type": "markdown",
   "metadata": {},
   "source": [
    "# Day 10\n",
    "###### Part 1"
   ]
  },
  {
   "cell_type": "code",
   "execution_count": 23,
   "metadata": {},
   "outputs": [],
   "source": [
    "day10data  = open(\"Data/day10values.txt\", \"r\") \n",
    "#make the array 2d\n",
    "data10 = day10data.read().split(\"\\n\")\n",
    "\n",
    "for i, value in enumerate(data10):\n",
    "    data10[i] = int(value)\n",
    "data10.sort()\n",
    "# print(data10)"
   ]
  },
  {
   "cell_type": "code",
   "execution_count": 24,
   "metadata": {},
   "outputs": [
    {
     "name": "stdout",
     "output_type": "stream",
     "text": [
      "answer 72 one step up adapters x 36 three step up adapters = 2592\n"
     ]
    }
   ],
   "source": [
    "prev = 0\n",
    "one = 0\n",
    "three = 1\n",
    "for value in data10:\n",
    "    if prev + 1 == value:\n",
    "        one+=1\n",
    "    elif prev + 3 == value:\n",
    "        three+=1\n",
    "    prev = value\n",
    "    \n",
    "print(\"answer\", one, \"one step up adapters x\", three, \"three step up adapters =\", one*three)"
   ]
  },
  {
   "cell_type": "markdown",
   "metadata": {},
   "source": [
    "### Part 2"
   ]
  },
  {
   "cell_type": "code",
   "execution_count": 25,
   "metadata": {},
   "outputs": [
    {
     "name": "stdout",
     "output_type": "stream",
     "text": [
      "Total Number of adapter options 198428693313536\n"
     ]
    }
   ],
   "source": [
    "prev = 0\n",
    "three = 0\n",
    "total = 1\n",
    "diff=[]\n",
    "\n",
    "for value in data10:\n",
    "    diff.append(value - prev)\n",
    "    prev = value\n",
    "\n",
    "diff.append(3)\n",
    "\n",
    "roll = 0\n",
    "previous = 0\n",
    "pattern = {0:1, 1:1, 2:2, 3:4, 4:7}\n",
    "for value in diff:\n",
    "    \n",
    "    if value == 1:\n",
    "        roll += 1\n",
    "    elif value == 3:\n",
    "        total *= pattern[roll]\n",
    "        roll = 0\n",
    "            \n",
    "    prev = value\n",
    "print(\"Total Number of adapter options\", total)"
   ]
  },
  {
   "cell_type": "markdown",
   "metadata": {},
   "source": [
    "# Day 11\n",
    "###### Part 1"
   ]
  },
  {
   "cell_type": "code",
   "execution_count": 26,
   "metadata": {},
   "outputs": [
    {
     "name": "stdout",
     "output_type": "stream",
     "text": [
      "Seats Occupied: 2448\n"
     ]
    }
   ],
   "source": [
    "day11data  = open(\"Data/day11values.txt\", \"r\") \n",
    "#make the array 2d\n",
    "data11 = day11data.read().split(\"\\n\")\n",
    "\n",
    "for i, value in enumerate(data11):\n",
    "    data11[i] = list(value)\n",
    "\n",
    "def seatCheck(y, x, data):\n",
    "    maxY = len(data)\n",
    "    maxX = len(data[0])\n",
    "    \n",
    "    total = 0\n",
    "\n",
    "    if(y == maxY or x == maxX):\n",
    "        print(maxY, y, maxX, x)\n",
    "        return 0\n",
    "    #Left side\n",
    "    if y > 0:\n",
    "        if(data[y-1][x] == \"#\"):\n",
    "            total += 1\n",
    "        if x > 0:\n",
    "            if(data[y-1][x - 1] == \"#\"):\n",
    "                total += 1\n",
    "        if x < maxX - 1 :\n",
    "            if(data[y-1][x+1] == \"#\"):   \n",
    "                total += 1\n",
    "    #middle bottom\n",
    "    if x < maxX - 1:\n",
    "        if(data[y][x+1] == \"#\"):\n",
    "            total += 1\n",
    "    #middle top\n",
    "    if x > 0:\n",
    "        if(data[y][x-1] == \"#\"):\n",
    "            total += 1\n",
    "    #right side\n",
    "    if y < maxY - 1:\n",
    "        if(data[y+1][x] == \"#\"):\n",
    "            total += 1\n",
    "        if x < maxX - 1:\n",
    "            if(data[y+1][x+1] == \"#\"):\n",
    "                total += 1\n",
    "        if(x > 0):\n",
    "            if(data[y+1][x-1] == \"#\"):\n",
    "                total += 1\n",
    "    return total\n",
    "\n",
    "\n",
    "prev = 0\n",
    "total = 0\n",
    "while 1:\n",
    "    total = 0\n",
    "    temp = copy.deepcopy(data11)\n",
    "    for i, value in enumerate(data11):\n",
    "        for j, value2 in enumerate(value):\n",
    "            if value2 == \".\":\n",
    "                continue\n",
    "            seat = seatCheck(i, j, temp)\n",
    "            \n",
    "            if seat >= 4:\n",
    "                data11[i][j] = \"L\"\n",
    "            elif seat == 0:\n",
    "                total += 1\n",
    "                data11[i][j] = '#'\n",
    "\n",
    "#     for value in data11:\n",
    "#         print(value)\n",
    "    \n",
    "#     print(\"total\", total)\n",
    "    if prev == total:\n",
    "        break\n",
    "    prev = total\n",
    " \n",
    "occupied = 0\n",
    "for i, value in enumerate(data11):\n",
    "    for j, value2 in enumerate(value):\n",
    "        if data11[i][j] == \"#\":\n",
    "            occupied +=1\n",
    "            \n",
    "print(\"Seats Occupied:\", occupied)"
   ]
  },
  {
   "cell_type": "markdown",
   "metadata": {},
   "source": [
    "### Part 2"
   ]
  },
  {
   "cell_type": "code",
   "execution_count": 27,
   "metadata": {},
   "outputs": [
    {
     "name": "stdout",
     "output_type": "stream",
     "text": [
      "Seats Occupied: 2234\n"
     ]
    }
   ],
   "source": [
    "import copy\n",
    "\n",
    "day11data  = open(\"Data/day11values.txt\", \"r\") \n",
    "#make the array 2d\n",
    "data11 = day11data.read().split(\"\\n\")\n",
    "\n",
    "for i, value in enumerate(data11):\n",
    "    data11[i] = list(value)\n",
    "\n",
    "def findDirection(x, y, data, dx, dy):\n",
    "    tempx = x+dx\n",
    "    tempy = y+dy\n",
    "    \n",
    "    maxX = len(data[0])\n",
    "    maxY = len(data)\n",
    "    \n",
    "    while(0 <= tempx < maxX and 0 <= tempy < maxY):\n",
    "        if( data[tempy][tempx] == \".\"):\n",
    "            #print(tempx,tempy)\n",
    "            tempx += dx\n",
    "            tempy += dy\n",
    "        else:\n",
    "            return data[tempy][tempx]\n",
    "        \n",
    "    if 0 <= tempx < maxX and 0 <= tempy < maxY:\n",
    "        return data[tempy][tempx]\n",
    "    \n",
    "    elif tempx - dx == x and tempy - dy == y:\n",
    "        return \".\"\n",
    "    \n",
    "    else:\n",
    "        return data[tempy-dy][tempx-dx]\n",
    "\n",
    "\n",
    "def seatCheck(y, x, data):\n",
    "    maxY = len(data)\n",
    "    maxX = len(data[0])\n",
    "    \n",
    "    total = 0\n",
    "\n",
    "    if(y == maxY or x == maxX):\n",
    "        print(\"Hit a max\", maxY, y, maxX, x)\n",
    "        return 0\n",
    "    \n",
    "    #Bottom side\n",
    "    if y > 0:\n",
    "        if(findDirection(x, y, data, 0, -1) == \"#\"):\n",
    "            total += 1\n",
    "        if x > 0:\n",
    "            if(findDirection(x, y, data, -1, -1) == \"#\"):\n",
    "                total += 1\n",
    "        if x < maxX - 1 :\n",
    "            if(findDirection(x, y, data, 1, -1) == \"#\"):\n",
    "                total += 1\n",
    "\n",
    "    #middle right\n",
    "    if x < maxX:\n",
    "        if(findDirection(x, y, data, 1, 0) == \"#\"):\n",
    "            total += 1\n",
    "       \n",
    "    #middle left\n",
    "    if x > 0:\n",
    "        if(findDirection(x, y, data, -1, 0) == \"#\"):\n",
    "            total += 1\n",
    "       \n",
    "    #top side\n",
    "    if y < maxY:\n",
    "        if(findDirection(x, y, data, 0, 1) == \"#\"):\n",
    "            total += 1\n",
    "        if x < maxX - 1:\n",
    "            if(findDirection(x, y, data, 1, 1) == \"#\"):\n",
    "                total += 1\n",
    "        if(x > 0):\n",
    "            if(findDirection(x, y, data, -1, 1) == \"#\"):\n",
    "                total += 1\n",
    "                \n",
    "    #print(\"Total\", total)\n",
    "    return total\n",
    "\n",
    "prev = 0\n",
    "total = 0\n",
    "while 1:\n",
    "    total = 0\n",
    "    temp = copy.deepcopy(data11)\n",
    "    for i, value in enumerate(data11):\n",
    "        for j, value2 in enumerate(value):\n",
    "            if value2 == \".\":\n",
    "                continue\n",
    "            seat = seatCheck(i, j, temp)\n",
    "            \n",
    "            if seat >= 5:\n",
    "                data11[i][j] = \"L\"\n",
    "            elif seat == 0:\n",
    "                total += 1\n",
    "                data11[i][j] = '#'\n",
    "\n",
    "    if prev == total:\n",
    "#         print(\"BREAK\")\n",
    "        break\n",
    "    prev = total\n",
    " \n",
    "occupied = 0\n",
    "for i, value in enumerate(data11):\n",
    "#     print(value)\n",
    "    for j, value2 in enumerate(value):\n",
    "        if data11[i][j] == \"#\":\n",
    "            occupied +=1\n",
    "            \n",
    "print(\"Seats Occupied:\", occupied)"
   ]
  },
  {
   "cell_type": "markdown",
   "metadata": {},
   "source": [
    "# Day 12\n",
    "###### Part 1"
   ]
  },
  {
   "cell_type": "code",
   "execution_count": 28,
   "metadata": {},
   "outputs": [],
   "source": [
    "day12data  = open(\"Data/day12values.txt\", \"r\") \n",
    "#make the array 2d\n",
    "data12 = day12data.read().split(\"\\n\")\n",
    "data12v = []\n",
    "for i, value in enumerate(data12):\n",
    "    data12v.append(int(value[1:]))\n",
    "    data12[i] = value[0:1]\n",
    "    \n",
    "# print(data12v)\n",
    "# print(data12)"
   ]
  },
  {
   "cell_type": "code",
   "execution_count": 29,
   "metadata": {},
   "outputs": [
    {
     "name": "stdout",
     "output_type": "stream",
     "text": [
      "Manhattan Distance = 858 =abs( -763 + -95 )\n"
     ]
    }
   ],
   "source": [
    "direction = 0 #0 = east, 1 = south, 2 = west, 3 = north\n",
    "\n",
    "north = 0\n",
    "east = 0\n",
    "\n",
    "for i, value in enumerate(data12):\n",
    "#     print(value, data12v[i])\n",
    "    if value == \"E\": \n",
    "        east += data12v[i]\n",
    "    elif value == \"W\":\n",
    "        east -= data12v[i]\n",
    "    elif value ==\"N\": \n",
    "        north += data12v[i]\n",
    "    elif value == \"S\":\n",
    "        north -= data12v[i]\n",
    "\n",
    "    elif value == \"L\": \n",
    "        direction -= (data12v[i]/90)\n",
    "        direction %= 4\n",
    "    elif value == \"R\":\n",
    "        direction += (data12v[i]/90)\n",
    "        direction %= 4\n",
    "        \n",
    "    elif value == \"F\":\n",
    "        if direction == 0:\n",
    "            east += data12v[i]\n",
    "        elif direction == 1:\n",
    "            north -= data12v[i]\n",
    "        elif direction == 2: \n",
    "            east -= data12v[i]\n",
    "        elif direction == 3:\n",
    "            north += data12v[i]\n",
    "            \n",
    "#     print(\"N:\", north, east, \"D:\",direction)\n",
    "    \n",
    "distance = abs(north) + abs(east)\n",
    "print(\"Manhattan Distance =\", distance,\"=abs(\",north,\"+\",east,\")\")"
   ]
  },
  {
   "cell_type": "markdown",
   "metadata": {},
   "source": [
    "### Part 2"
   ]
  },
  {
   "cell_type": "code",
   "execution_count": 30,
   "metadata": {},
   "outputs": [
    {
     "name": "stdout",
     "output_type": "stream",
     "text": [
      "Manhattan Distance = 39140 =abs( -28130 + 11010 )\n"
     ]
    }
   ],
   "source": [
    "direction = 0 #0 = east, 1 = south, 2 = west, 3 = north\n",
    "\n",
    "north = 1\n",
    "east = 10\n",
    "\n",
    "tNorth = 0\n",
    "tEast = 0\n",
    "\n",
    "for i, value in enumerate(data12):\n",
    "#     print(value, data12v[i])\n",
    "    if value == \"E\": \n",
    "        east += data12v[i]\n",
    "    elif value == \"W\":\n",
    "        east -= data12v[i]\n",
    "    elif value ==\"N\": \n",
    "        north += data12v[i]\n",
    "    elif value == \"S\":\n",
    "        north -= data12v[i]\n",
    "\n",
    "    elif value == \"L\": \n",
    "        for value in range(data12v[i]//90):\n",
    "            t = east\n",
    "            east = -north\n",
    "            north = t\n",
    "        \n",
    "    elif value == \"R\":\n",
    "        for value in range(data12v[i]//90):\n",
    "            t = north\n",
    "            north = -east\n",
    "            east = t\n",
    "        \n",
    "    elif value == \"F\":\n",
    "        tEast += data12v[i] * east\n",
    "        tNorth += data12v[i] * north\n",
    "#         print(data12v[i], \"North\", north, \"East\", east)\n",
    "#         print(\"tnorth\", tNorth, \"teast\", tEast)\n",
    "\n",
    "            \n",
    "#     print(\"N:\", north, east, \"D:\",direction)\n",
    "    \n",
    "distance = abs(tNorth) + abs(tEast)\n",
    "print(\"Manhattan Distance =\", distance, \"=abs(\", tNorth, \"+\", tEast, \")\")"
   ]
  },
  {
   "cell_type": "markdown",
   "metadata": {},
   "source": [
    "# Day 13\n",
    "###### Part 1"
   ]
  },
  {
   "cell_type": "code",
   "execution_count": 31,
   "metadata": {},
   "outputs": [
    {
     "name": "stdout",
     "output_type": "stream",
     "text": [
      "['1000067', '17,x,x,x,x,x,x,x,x,x,x,37,x,x,x,x,x,439,x,29,x,x,x,x,x,x,x,x,x,x,13,x,x,x,x,x,x,x,x,x,23,x,x,x,x,x,x,x,787,x,x,x,x,x,x,x,x,x,41,x,x,x,x,x,x,x,x,19']\n",
      "1000067 [17, 37, 439, 29, 13, 23, 787, 41, 19]\n"
     ]
    }
   ],
   "source": [
    "day13data  = open(\"Data/day13values.txt\", \"r\") \n",
    "#make the array 2d\n",
    "data13 = day13data.read().split(\"\\n\")\n",
    "data13v = []\n",
    "\n",
    "    \n",
    "print(data13)\n",
    "startTime = int(data13[0])\n",
    "\n",
    "temp = data13[1].split(\",\")\n",
    "for value in temp:\n",
    "    if \"x\" not in value:\n",
    "        data13v.append(int(value))\n",
    "print(startTime, data13v)"
   ]
  },
  {
   "cell_type": "code",
   "execution_count": 32,
   "metadata": {
    "scrolled": true
   },
   "outputs": [
    {
     "name": "stdout",
     "output_type": "stream",
     "text": [
      "Earliest bus is bus# 41 Wait time is 5 minutes\n"
     ]
    }
   ],
   "source": [
    "prev = 199999999\n",
    "prevVal = 0\n",
    "for value in data13v:\n",
    "    temp = 0\n",
    "    i = 0\n",
    "    while temp < startTime:\n",
    "        i+=1\n",
    "        temp = value * i\n",
    "    if prev > temp - startTime:\n",
    "        prev = temp - startTime\n",
    "        prevVal = value\n",
    "print(\"Earliest bus is bus#\", prevVal, \"Wait time is\", prev, \"minutes\")"
   ]
  },
  {
   "cell_type": "code",
   "execution_count": 33,
   "metadata": {},
   "outputs": [
    {
     "name": "stdout",
     "output_type": "stream",
     "text": [
      "['1000067', '17,x,x,x,x,x,x,x,x,x,x,37,x,x,x,x,x,439,x,29,x,x,x,x,x,x,x,x,x,x,13,x,x,x,x,x,x,x,x,x,23,x,x,x,x,x,x,x,787,x,x,x,x,x,x,x,x,x,41,x,x,x,x,x,x,x,x,19']\n",
      "1000067 {17: 0, 37: 11, 439: 17, 29: 19, 13: 30, 23: 40, 787: 48, 41: 58, 19: 67} 68\n"
     ]
    }
   ],
   "source": [
    "data13d = {}\n",
    "\n",
    "print(data13)\n",
    "\n",
    "temp = data13[1].split(\",\")\n",
    "length = len(temp)\n",
    "\n",
    "for i, value in enumerate(temp):\n",
    "    if \"x\" not in value:\n",
    "        data13d[int(value)] = i\n",
    "print(startTime, data13d, length)"
   ]
  },
  {
   "cell_type": "code",
   "execution_count": 34,
   "metadata": {},
   "outputs": [
    {
     "name": "stdout",
     "output_type": "stream",
     "text": [
      "[787, 439, 41, 37, 29, 23, 19, 17, 13]\n"
     ]
    }
   ],
   "source": [
    "data13v.sort(reverse = 1)\n",
    "print(data13v)"
   ]
  },
  {
   "cell_type": "code",
   "execution_count": 35,
   "metadata": {},
   "outputs": [
    {
     "ename": "KeyboardInterrupt",
     "evalue": "",
     "output_type": "error",
     "traceback": [
      "\u001b[1;31m---------------------------------------------------------------------------\u001b[0m",
      "\u001b[1;31mKeyboardInterrupt\u001b[0m                         Traceback (most recent call last)",
      "\u001b[1;32m<ipython-input-35-48662a3bb9ec>\u001b[0m in \u001b[0;36m<module>\u001b[1;34m\u001b[0m\n\u001b[0;32m     22\u001b[0m     \u001b[0mprint\u001b[0m\u001b[1;33m(\u001b[0m\u001b[1;34m\"Found at\"\u001b[0m\u001b[1;33m,\u001b[0m\u001b[0mtBig\u001b[0m\u001b[1;33m,\u001b[0m \u001b[0mtSmall\u001b[0m\u001b[1;33m)\u001b[0m\u001b[1;33m\u001b[0m\u001b[1;33m\u001b[0m\u001b[0m\n\u001b[0;32m     23\u001b[0m \u001b[1;33m\u001b[0m\u001b[0m\n\u001b[1;32m---> 24\u001b[1;33m \u001b[0mtimeSearch\u001b[0m\u001b[1;33m(\u001b[0m\u001b[0mdata13v\u001b[0m\u001b[1;33m[\u001b[0m\u001b[1;36m0\u001b[0m\u001b[1;33m]\u001b[0m\u001b[1;33m,\u001b[0m \u001b[0mdata13v\u001b[0m\u001b[1;33m[\u001b[0m\u001b[1;36m1\u001b[0m\u001b[1;33m]\u001b[0m\u001b[1;33m,\u001b[0m\u001b[0mdata13d\u001b[0m\u001b[1;33m[\u001b[0m\u001b[0mdata13v\u001b[0m\u001b[1;33m[\u001b[0m\u001b[1;36m0\u001b[0m\u001b[1;33m]\u001b[0m\u001b[1;33m]\u001b[0m\u001b[1;33m,\u001b[0m \u001b[0mdata13d\u001b[0m\u001b[1;33m[\u001b[0m\u001b[0mdata13v\u001b[0m\u001b[1;33m[\u001b[0m\u001b[1;36m1\u001b[0m\u001b[1;33m]\u001b[0m\u001b[1;33m]\u001b[0m\u001b[1;33m,\u001b[0m \u001b[1;36m1000000000\u001b[0m \u001b[1;33m)\u001b[0m\u001b[1;33m\u001b[0m\u001b[1;33m\u001b[0m\u001b[0m\n\u001b[0m\u001b[0;32m     25\u001b[0m \u001b[0mtimeSearch\u001b[0m\u001b[1;33m(\u001b[0m\u001b[0mdata13v\u001b[0m\u001b[1;33m[\u001b[0m\u001b[1;36m0\u001b[0m\u001b[1;33m]\u001b[0m\u001b[1;33m,\u001b[0m \u001b[0mdata13v\u001b[0m\u001b[1;33m[\u001b[0m\u001b[1;36m2\u001b[0m\u001b[1;33m]\u001b[0m\u001b[1;33m,\u001b[0m\u001b[0mdata13d\u001b[0m\u001b[1;33m[\u001b[0m\u001b[0mdata13v\u001b[0m\u001b[1;33m[\u001b[0m\u001b[1;36m0\u001b[0m\u001b[1;33m]\u001b[0m\u001b[1;33m]\u001b[0m\u001b[1;33m,\u001b[0m \u001b[0mdata13d\u001b[0m\u001b[1;33m[\u001b[0m\u001b[0mdata13v\u001b[0m\u001b[1;33m[\u001b[0m\u001b[1;36m2\u001b[0m\u001b[1;33m]\u001b[0m\u001b[1;33m]\u001b[0m\u001b[1;33m,\u001b[0m \u001b[1;36m1000000000\u001b[0m \u001b[1;33m)\u001b[0m\u001b[1;33m\u001b[0m\u001b[1;33m\u001b[0m\u001b[0m\n",
      "\u001b[1;32m<ipython-input-35-48662a3bb9ec>\u001b[0m in \u001b[0;36mtimeSearch\u001b[1;34m(big, small, offsetB, offsetS, minTime)\u001b[0m\n\u001b[0;32m     11\u001b[0m \u001b[1;33m\u001b[0m\u001b[0m\n\u001b[0;32m     12\u001b[0m     \u001b[1;32mwhile\u001b[0m \u001b[0mtSmall\u001b[0m \u001b[1;33m<\u001b[0m \u001b[0mminTime\u001b[0m\u001b[1;33m:\u001b[0m\u001b[1;33m\u001b[0m\u001b[1;33m\u001b[0m\u001b[0m\n\u001b[1;32m---> 13\u001b[1;33m         \u001b[0mtBig\u001b[0m \u001b[1;33m+=\u001b[0m \u001b[0msmall\u001b[0m\u001b[1;33m\u001b[0m\u001b[1;33m\u001b[0m\u001b[0m\n\u001b[0m\u001b[0;32m     14\u001b[0m \u001b[1;33m\u001b[0m\u001b[0m\n\u001b[0;32m     15\u001b[0m     \u001b[1;32mwhile\u001b[0m \u001b[0mtBig\u001b[0m \u001b[1;33m-\u001b[0m \u001b[0moffsetT\u001b[0m \u001b[1;33m!=\u001b[0m \u001b[0mtSmall\u001b[0m\u001b[1;33m:\u001b[0m\u001b[1;33m\u001b[0m\u001b[1;33m\u001b[0m\u001b[0m\n",
      "\u001b[1;31mKeyboardInterrupt\u001b[0m: "
     ]
    }
   ],
   "source": [
    "def timeSearch(big, small, offsetB, offsetS, minTime):\n",
    "    jump = minTime//big\n",
    "    tBig = big*jump + offsetB\n",
    "    \n",
    "    jump = minTime//small\n",
    "    tSmall = small*jump + offsetS\n",
    "    offsetT = offsetB - offsetS\n",
    "    \n",
    "    while tBig < minTime:\n",
    "        tBig += big\n",
    "    \n",
    "    while tSmall < minTime:\n",
    "        tBig += small\n",
    "    \n",
    "    while tBig - offsetT != tSmall:\n",
    "        if tSmall > tBig:\n",
    "            tBig += big\n",
    "        if tBig >= tSmall:\n",
    "            tSmall += small\n",
    "#         print(tBig, tSmall)\n",
    "        \n",
    "    print(\"Found at\",tBig, tSmall)\n",
    "    \n",
    "timeSearch(data13v[0], data13v[1],data13d[data13v[0]], data13d[data13v[1]], 1000000000 )\n",
    "timeSearch(data13v[0], data13v[2],data13d[data13v[0]], data13d[data13v[2]], 1000000000 )"
   ]
  },
  {
   "cell_type": "code",
   "execution_count": null,
   "metadata": {},
   "outputs": [],
   "source": [
    "def timeSearch(big, small, offsetB, offsetS, minTime):\n",
    "    jump = minTime//big\n",
    "    tBig = big*jump + offsetB\n",
    "    offsetT = offsetB - offsetS\n",
    "    \n",
    "    while tBig < minTime:\n",
    "        tBig += big\n",
    "    \n",
    "    jump = tBig//small\n",
    "    tSmall = small*jump + offsetS\n",
    "    \n",
    "    while tBig - offsetT != tSmall:\n",
    "\n",
    "        if tSmall > tBig:\n",
    "            tBig += big\n",
    "        if tBig >= tSmall:\n",
    "            tSmall += small\n",
    "        print(tBig, tSmall)\n",
    "        \n",
    "    print(\"Found at\\t\",tBig, tSmall)\n",
    "    return tBig - offsetB\n",
    "\n",
    "temp = 1000000000\n",
    "ans = []\n",
    "for i in range(5):\n",
    "    temp = timeSearch(data13v[0], data13v[1],data13d[data13v[0]], data13d[data13v[1]], temp+data13v[0]+1)\n",
    "    ans.append(temp)\n",
    "    \n",
    "print(ans[1]-ans[0])\n",
    "print(ans[3]-ans[2])\n",
    "print(ans)\n",
    "# timeSearch(data13v[0], data13v[2],data13d[data13v[0]], data13d[data13v[2]], temp )"
   ]
  },
  {
   "cell_type": "code",
   "execution_count": null,
   "metadata": {},
   "outputs": [],
   "source": [
    "def timeSearch(big, offsetB, minTime, length):\n",
    "   \n",
    "    jump = minTime//big\n",
    "    tBig = big*jump + offsetB\n",
    "    \n",
    "    while tBig < minTime:\n",
    "        tBig += big\n",
    "    \n",
    "    while tBig % length != offsetB:\n",
    "        tBig += big\n",
    "    \n",
    "    #print(tBig, offsetB)\n",
    "    return tBig - offsetB\n",
    "\n",
    "print(timeSearch(data13v[0], data13d[data13v[0]], 0, length))\n",
    "print(data13v[0], data13d[data13v[0]])"
   ]
  },
  {
   "cell_type": "code",
   "execution_count": null,
   "metadata": {
    "scrolled": true
   },
   "outputs": [],
   "source": [
    "time = 100000000000000\n",
    "prev = time\n",
    "change = 0\n",
    "while change != len(data13v):\n",
    "    change = 0\n",
    "    for key,value in data13d.items():\n",
    "        time = timeSearch(key, value, time, length)\n",
    "        \n",
    "        if prev != time:\n",
    "            prev = time\n",
    "        else:\n",
    "            change += 1\n",
    "        \n",
    "        if time % 10000000 <= length:\n",
    "            print(time)\n",
    "        #print(time, key, value)\n",
    "print(\"DONE\", time)"
   ]
  },
  {
   "cell_type": "markdown",
   "metadata": {},
   "source": [
    "# Day 14\n",
    "###### Part 1"
   ]
  },
  {
   "cell_type": "code",
   "execution_count": null,
   "metadata": {
    "scrolled": true
   },
   "outputs": [],
   "source": [
    "import re\n",
    "\n",
    "day14data  = open(\"Data/day14values.txt\", \"r\") \n",
    "#make the array 2d\n",
    "data14 = day14data.read().split(\"\\n\")\n",
    "# print(data14)\n",
    "memory = {}\n",
    "\n",
    "mask = \"string\"\n",
    "for value in data14:\n",
    "    if \"mask\" in value:\n",
    "        mask = value[7:]\n",
    "#         print(mask, len(mask))\n",
    "    else:\n",
    "        temp = \"\"\n",
    "        location = re.findall(\"\\d+\", value)\n",
    "        mem = location[0]\n",
    "        maskee = int(location[1])\n",
    "        maskee = format(maskee, \"b\").zfill(36)\n",
    "        \n",
    "        for i, value in enumerate(mask):\n",
    "            if \"X\" in value:\n",
    "                temp += maskee[i]\n",
    "            else:\n",
    "                temp += mask[i]\n",
    "        memory[mem] = int(temp, 2)\n",
    "        \n",
    "#         print(temp)\n",
    "#         print(value)\n",
    "#         print(maskee)\n",
    "    \n",
    "# print(memory)\n",
    "total = 0\n",
    "for key, val in memory.items():\n",
    "    total += val\n",
    "print(total)"
   ]
  },
  {
   "cell_type": "markdown",
   "metadata": {},
   "source": [
    "### Part 2"
   ]
  },
  {
   "cell_type": "code",
   "execution_count": null,
   "metadata": {},
   "outputs": [],
   "source": [
    "def memoryMask(mask, mem, value, temp, start):\n",
    "    i = start\n",
    "    while i < len(mask):\n",
    "        if \"X\" in mask[i]:\n",
    "            t2 = temp\n",
    "            t2 += \"1\"\n",
    "            memoryMask(mask, mem, value, t2, i + 1)\n",
    "            temp += \"0\"\n",
    "        elif \"0\" in mask[i]:\n",
    "            temp += mem[i]\n",
    "        else:\n",
    "            temp += mask[i]\n",
    "        i += 1\n",
    "        \n",
    "    memory[temp] = value\n",
    "        \n",
    "\n",
    "import re\n",
    "\n",
    "day14data  = open(\"Data/day14values.txt\", \"r\") \n",
    "#make the array 2d\n",
    "data14 = day14data.read().split(\"\\n\")\n",
    "# print(data14)\n",
    "\n",
    "memory = {}\n",
    "mask = \"string\"\n",
    "for value in data14:\n",
    "    if \"mask\" in value:\n",
    "        mask = value[7:]\n",
    "#         print(mask, len(mask))\n",
    "    else:\n",
    "        temp = \"\"\n",
    "        location = re.findall(\"\\d+\", value)\n",
    "        mem = int(location[0])\n",
    "        value = int(location[1])\n",
    "        maskee = format(mem, \"b\").zfill(36)\n",
    "        \n",
    "        memoryMask(mask, maskee, value, temp, 0)\n",
    "        \n",
    "#         print(temp)\n",
    "#         print(value)\n",
    "#         print(maskee)\n",
    "    \n",
    "# print(memory)\n",
    "total = 0\n",
    "for key, val in memory.items():\n",
    "    total += val\n",
    "print(total)    "
   ]
  },
  {
   "cell_type": "markdown",
   "metadata": {},
   "source": [
    "# Day 15\n",
    "###### Part 1"
   ]
  },
  {
   "cell_type": "code",
   "execution_count": null,
   "metadata": {},
   "outputs": [],
   "source": [
    "#Imput data is small enough to copy paste\n",
    "day15data = [16,1,0,18,12,14,19] \n",
    "\n",
    "def elfGame(data, stop):\n",
    "    turn = 1\n",
    "    info = {}\n",
    "    prev = -1\n",
    "    value = 0\n",
    "    valueInc = 0\n",
    "    \n",
    "    for value in data:\n",
    "        info[value] = turn\n",
    "        prev = value\n",
    "#         print(\"New:\",value, turn)\n",
    "        turn += 1\n",
    "     \n",
    "    info[data[len(data)-1]] = -1\n",
    "#     print(prev, info[data[len(data)-1]])\n",
    "    \n",
    "    while turn <= stop:\n",
    "        if prev in info:\n",
    "            if info[prev]== -1:\n",
    "#                 print(prev, \"is new 0 T:\", turn)\n",
    "                info[prev] = turn -1\n",
    "                prev = 0\n",
    "            else:\n",
    "                temp = (turn - 1) - info[prev]\n",
    "#                 print(info[prev], turn)\n",
    "\n",
    "                info[prev] = turn - 1\n",
    "#                 print(\"Turns since\", prev, \"said:\", temp,\"T:\", turn)\n",
    "                prev = temp\n",
    "                \n",
    "                \n",
    "                if prev not in info:\n",
    "                    continue\n",
    "        else:\n",
    "            info[prev] = -1\n",
    "#             print(\"New:\", prev, turn)\n",
    "            \n",
    "        turn += 1\n",
    "    return prev\n",
    "\n",
    "print(elfGame(day15data, 2020))"
   ]
  },
  {
   "cell_type": "markdown",
   "metadata": {},
   "source": [
    "### Part 2"
   ]
  },
  {
   "cell_type": "code",
   "execution_count": null,
   "metadata": {},
   "outputs": [],
   "source": [
    "import datetime\n",
    "print( \"Starting time:\", datetime.datetime.now())\n",
    "print(elfGame(day15data,30000000))\n",
    "print( \"Finishing time:\", datetime.datetime.now())"
   ]
  },
  {
   "cell_type": "markdown",
   "metadata": {},
   "source": [
    "# Day 16\n",
    "###### Part 1"
   ]
  },
  {
   "cell_type": "code",
   "execution_count": null,
   "metadata": {},
   "outputs": [],
   "source": [
    "import re\n",
    "\n",
    "day16data  = open(\"Data/day16values.txt\", \"r\") \n",
    "#make the array 2d\n",
    "data16 = day16data.read().split(\"\\n\\n\")\n",
    "\n",
    "# print(data16[0])\n",
    "validRules = []\n",
    "for value in re.findall(\"\\d+\", data16[0]):\n",
    "    validRules.append(int(value))\n",
    "# print(validRules)\n",
    "\n",
    "myTicket = []\n",
    "for value in data16[1].split(\"\\n\")[1].split(\",\"):\n",
    "    myTicket.append(int(value))\n",
    "    \n",
    "# print(myTicket)\n",
    "\n",
    "nearbyTickets = data16[2].split(\"\\n\")[1:]\n",
    "for i, value in enumerate(nearbyTickets):\n",
    "    nearbyTickets[i] = []\n",
    "    for value2 in value.split(\",\"):\n",
    "        nearbyTickets[i].append(int(value2))\n",
    "    \n",
    "    \n",
    "print(nearbyTickets)\n",
    "print(\"Data loading complete\")"
   ]
  },
  {
   "cell_type": "code",
   "execution_count": null,
   "metadata": {},
   "outputs": [],
   "source": [
    "print(validRules)"
   ]
  },
  {
   "cell_type": "code",
   "execution_count": null,
   "metadata": {},
   "outputs": [],
   "source": [
    "def verify(ticket, rules):\n",
    "    totalErr = 0\n",
    "    invalid = 0\n",
    "    for value in ticket:\n",
    "        valid = 0\n",
    "        for i in range(len(rules)//4):\n",
    "            \n",
    "            if rules[i * 4 + 0] <= value <= rules[i * 4 + 1] or rules[i * 4 + 2] <= value <= rules[i * 4 + 3]:\n",
    "                valid += 1\n",
    "            else:\n",
    "                invalid += 1\n",
    "            \n",
    "            \n",
    "        if valid == 0:\n",
    "            totalErr += value\n",
    "\n",
    "    if invalid or totalErr:\n",
    "        return totalErr\n",
    "    return -1\n",
    "\n",
    "error = 0\n",
    "valid = 0\n",
    "invalid = 0\n",
    "\n",
    "validTickets=[]\n",
    "\n",
    "for value in nearbyTickets:\n",
    "    temp = verify(value, validRules)\n",
    "    if temp == -1:\n",
    "#         print(\"valid\")\n",
    "        valid +=1\n",
    "        validTickets.append(value)\n",
    "    else:\n",
    "        invalid += temp\n",
    "        \n",
    "error = invalid\n",
    "\n",
    "print(error)"
   ]
  },
  {
   "cell_type": "code",
   "execution_count": null,
   "metadata": {},
   "outputs": [],
   "source": [
    "\n",
    "# print(len(validTickets))"
   ]
  },
  {
   "cell_type": "code",
   "execution_count": null,
   "metadata": {
    "scrolled": true
   },
   "outputs": [],
   "source": [
    "def findRules(col, tickets, rules):\n",
    "    vRules = []\n",
    "    for i in range(len(rules)//4):\n",
    "        vRules.append(1)\n",
    "\n",
    "    for i in range(len(rules)//4):\n",
    "#         print(rules[i*4:i*4+4])\n",
    "        for value in tickets:\n",
    "#             print(not (rules[i * 4 + 0] <= value[col] <= rules[i * 4 + 1] or rules[i * 4 + 2] <= value[col] <= rules[i * 4 + 3]))\n",
    "            if not (rules[i * 4 + 0] <= value[col] <= rules[i * 4 + 1] or rules[i * 4 + 2] <= value[col] <= rules[i * 4 + 3]):\n",
    "                vRules[i] = 0\n",
    "                print(value[col], value)\n",
    "                break\n",
    "    \n",
    "    print(vRules)\n",
    "    for i, value in enumerate(vRules):\n",
    "        if value:\n",
    "            return i\n",
    "    \n",
    "columnKey = []\n",
    "for i in range(len(validRules)//4):\n",
    "    columnKey.append(findRules(i, validTickets, validRules))\n",
    "    \n",
    "print(columnKey)\n"
   ]
  },
  {
   "cell_type": "markdown",
   "metadata": {},
   "source": [
    "# Day 17\n",
    "###### Part 1"
   ]
  },
  {
   "cell_type": "markdown",
   "metadata": {},
   "source": [
    "# Day 18\n",
    "###### Part 1"
   ]
  },
  {
   "cell_type": "code",
   "execution_count": null,
   "metadata": {},
   "outputs": [],
   "source": [
    "day18data  = open(\"Data/day18values.txt\", \"r\") \n",
    "#make the array 2d\n",
    "data18 = day18data.read().split(\"\\n\")\n",
    "print(data18)"
   ]
  },
  {
   "cell_type": "code",
   "execution_count": null,
   "metadata": {},
   "outputs": [],
   "source": [
    "def isInt(s):\n",
    "    try: \n",
    "        int(s)\n",
    "        return True\n",
    "    except ValueError:\n",
    "        return False\n",
    "\n",
    "def solver(equation):\n",
    "    a = 0\n",
    "    b = 0\n",
    "    bActive = 0\n",
    "    paren = 0\n",
    "    sign = \" \"\n",
    "    \n",
    "    for loc, value in enumerate(equation):\n",
    "        \n",
    "        #skip spaces\n",
    "        if value == \" \":\n",
    "            continue\n",
    "           \n",
    "#         print(\"val\", value, \"ints\", a,b, paren,\"sign:\", sign)\n",
    "        \n",
    "        #handle ()\n",
    "        if value == \"(\":\n",
    "            if paren == 0:\n",
    "#                 print(\"going deeper\")\n",
    "                if a == 0:\n",
    "                    a = solver(equation[loc + 1:])\n",
    "                    paren += 1\n",
    "                    continue\n",
    "                else:\n",
    "                    b = solver(equation[loc + 1:])\n",
    "                    bActive = 1\n",
    "            paren += 1\n",
    "        \n",
    "        if paren > 0 and bActive == 0:\n",
    "            if value == \")\":\n",
    "                paren -= 1\n",
    "            continue\n",
    "        \n",
    "        \n",
    "        if (isInt(value) or bActive == 1):\n",
    "            #If we have a value, save it\n",
    "            if bActive == 0:\n",
    "                if a == 0:\n",
    "                    a = int(value)\n",
    "                    continue\n",
    "                else:\n",
    "                    b = int(value)\n",
    "\n",
    "            #if we have both values, find the answer\n",
    "            if a and b:\n",
    "                if sign == \"+\":\n",
    "                    a += b\n",
    "                    b = 0\n",
    "                \n",
    "                elif sign == \"-\":\n",
    "                    a -= b\n",
    "                    b = 0\n",
    "                \n",
    "                elif sign == \"*\":\n",
    "                    a *= b\n",
    "                    b = 0\n",
    "                \n",
    "                elif sign == \"/\":\n",
    "                    a /= b\n",
    "                    b = 0\n",
    "                \n",
    "                else:\n",
    "                    print(value, a, b)\n",
    "                    print(\"Mistakes were made\")\n",
    "                bActive = 0\n",
    "                    \n",
    "        #If it's a sign save it for later\n",
    "        elif value == \"+\" or value == \"-\" or value == \"*\" or value == \"/\":\n",
    "            sign = value\n",
    "        \n",
    "        elif value == \")\":\n",
    "#             print(\"going back\", a)\n",
    "            return a\n",
    "    loc += 1\n",
    "    \n",
    "    return a\n",
    "\n",
    "# solver(\"5 + (8 * 3 + 9 + 3 * 4 * 3)\")\n",
    "\n",
    "sum = 0\n",
    "for value in data18:\n",
    "    sum += solver(value)\n",
    "print(sum)\n"
   ]
  },
  {
   "cell_type": "code",
   "execution_count": null,
   "metadata": {},
   "outputs": [],
   "source": []
  },
  {
   "cell_type": "markdown",
   "metadata": {},
   "source": [
    "# Day 19\n",
    "###### Part 1"
   ]
  },
  {
   "cell_type": "markdown",
   "metadata": {},
   "source": [
    "# Day 20\n",
    "###### Part 1"
   ]
  },
  {
   "cell_type": "markdown",
   "metadata": {},
   "source": [
    "# Day 21\n",
    "###### Part 1"
   ]
  },
  {
   "cell_type": "markdown",
   "metadata": {},
   "source": [
    "# Day 22\n",
    "###### Part 1"
   ]
  },
  {
   "cell_type": "code",
   "execution_count": 96,
   "metadata": {},
   "outputs": [
    {
     "name": "stdout",
     "output_type": "stream",
     "text": [
      "Data loaded\n"
     ]
    }
   ],
   "source": [
    "import queue\n",
    "\n",
    "day22data  = open(\"Data/day22values.txt\", \"r\") \n",
    "data22 = day22data.read().split(\"\\n\\n\")\n",
    "\n",
    "def isInt(s):\n",
    "    try: \n",
    "        int(s)\n",
    "        return True\n",
    "    except ValueError:\n",
    "        return False\n",
    "\n",
    "player1 = queue.Queue()\n",
    "player2 = queue.Queue()\n",
    "\n",
    "len1 = 0\n",
    "len2 = 0\n",
    "\n",
    "for value in data22[0].split(\"\\n\"):\n",
    "    if isInt(value):\n",
    "        player1.put(int(value))\n",
    "        len1 += 1\n",
    "\n",
    "for value in data22[1].split(\"\\n\"):\n",
    "    if isInt(value):\n",
    "        player2.put(int(value))\n",
    "        len2 += 1\n",
    "\n",
    "print(\"Data loaded\")"
   ]
  },
  {
   "cell_type": "code",
   "execution_count": 2,
   "metadata": {},
   "outputs": [
    {
     "name": "stdout",
     "output_type": "stream",
     "text": [
      "Player2 winning score: 32783\n"
     ]
    }
   ],
   "source": [
    "def score(player, len):\n",
    "    total = 0\n",
    "    while len > 0:\n",
    "        total += player.get() * len\n",
    "        len -=1\n",
    "    return total\n",
    "\n",
    "while len1 > 0 and len2 > 0:\n",
    "    temp1 = player1.get()\n",
    "    temp2 = player2.get()\n",
    "    \n",
    "    if temp1 > temp2:\n",
    "        player1.put(temp1)\n",
    "        player1.put(temp2)\n",
    "        len1 += 1\n",
    "        len2 -= 1\n",
    "        \n",
    "    if temp1 < temp2:\n",
    "        player2.put(temp2)\n",
    "        player2.put(temp1)\n",
    "        len2 += 1\n",
    "        len1 -= 1\n",
    "\n",
    "if len1 > len2:\n",
    "    print(\"Player1 winning score:\", score(player1, len1))\n",
    "else:\n",
    "    print(\"Player2 winning score:\", score(player2, len2))\n"
   ]
  },
  {
   "cell_type": "markdown",
   "metadata": {},
   "source": [
    "### Part 2"
   ]
  },
  {
   "cell_type": "code",
   "execution_count": 104,
   "metadata": {},
   "outputs": [
    {
     "name": "stdout",
     "output_type": "stream",
     "text": [
      "[21, 48, 44, 31, 29, 5, 23, 11, 12, 27, 49, 22, 18, 7, 15, 20, 2, 45, 14, 17, 40, 35, 6, 24, 41]\n",
      "[47, 1, 10, 16, 28, 37, 8, 26, 46, 25, 3, 9, 34, 50, 32, 36, 43, 4, 42, 33, 19, 13, 38, 39, 30]\n"
     ]
    }
   ],
   "source": [
    "day22data  = open(\"Data/day22values.txt\", \"r\") \n",
    "data22 = day22data.read().split(\"\\n\\n\")\n",
    "\n",
    "def isInt(s):\n",
    "    try: \n",
    "        int(s)\n",
    "        return True\n",
    "    except ValueError:\n",
    "        return False\n",
    "\n",
    "player1 = []\n",
    "player2 = []\n",
    "\n",
    "for value in data22[0].split(\"\\n\"):\n",
    "    if isInt(value):\n",
    "        player1.append(int(value))\n",
    "        len2 += 1\n",
    "        \n",
    "for value in data22[1].split(\"\\n\"):\n",
    "    if isInt(value):\n",
    "        player2.append(int(value))\n",
    "        len2 += 1\n",
    "        \n",
    "print(player1)\n",
    "print(player2)"
   ]
  },
  {
   "cell_type": "code",
   "execution_count": 109,
   "metadata": {},
   "outputs": [
    {
     "name": "stdout",
     "output_type": "stream",
     "text": [
      "Player 1 Deck: [21, 48, 44, 31, 29, 5, 23, 11, 12, 27, 49, 22, 18, 7, 15, 20, 2, 45, 14, 17, 40, 35, 6, 24, 41]\n",
      "Player 2 Deck: [47, 1, 10, 16, 28, 37, 8, 26, 46, 25, 3, 9, 34, 50, 32, 36, 43, 4, 42, 33, 19, 13, 38, 39, 30]\n",
      "[2, 33455]\n"
     ]
    }
   ],
   "source": [
    "import copy\n",
    "\n",
    "def score(player):\n",
    "    total = 0\n",
    "#     print(\"score start\", player, len(player))\n",
    "    for i in range(len(player)):\n",
    "        total += (len(player) - i) * player[i]\n",
    "#         print(total, i, len(player))\n",
    "    return total\n",
    "\n",
    "def historycmp(history, arr):\n",
    "    if history == []:\n",
    "#         print(\"empty history\")\n",
    "        return 0\n",
    "\n",
    "    for value in history:\n",
    "        if len(value) == len(arr):\n",
    "#             print(value, arr)\n",
    "            correct = 0\n",
    "            for i in range(len(value)):\n",
    "                if value[i] == arr[i]:\n",
    "                    correct += 1\n",
    "                else:\n",
    "                    break\n",
    "            if correct == len(value):\n",
    "#                 print(\"Match found\", correct, len(value), len(arr))\n",
    "                return 1     \n",
    "    return 0\n",
    "\n",
    "def recursiveCombat(player1, player2):\n",
    "    history1 = []\n",
    "    history2 = []\n",
    "    winner = 0\n",
    "    roundnum = 1\n",
    "    \n",
    "#     print(\"\\nGame start\")\n",
    "    \n",
    "    while len(player1) > 0 and len(player2) > 0:\n",
    "        \n",
    "#         print(\"\\nRound:\", roundnum)\n",
    "#         print(\"Player1\", player1)\n",
    "#         print(\"Player2\", player2)\n",
    "\n",
    "        # if both players are in the same state as some time before, p1 wins\n",
    "        if(historycmp(history1, player1) == 1 and historycmp(history2, player2) == 1):\n",
    "            winner = 1\n",
    "            break\n",
    "\n",
    "        history1.append(copy.deepcopy(player1))\n",
    "        history2.append(copy.deepcopy(player2))\n",
    "\n",
    "        # if both players cards equal the number of cards they have remaining Recurse\n",
    "        card1 = player1.pop(0)\n",
    "        card2 = player2.pop(0)\n",
    "#         print(\"Card1:\", card1, \"Card2:\", card2)\n",
    "        \n",
    "        if card1 <= len(player1) and card2 <= len(player2):\n",
    "            if recursiveCombat(copy.deepcopy(player1[:card1]), copy.deepcopy(player2[:card2]))[0] == 1:\n",
    "                winner = 1\n",
    "            else:\n",
    "                winner = 2\n",
    "\n",
    "        # Higher value wins.\n",
    "        else:\n",
    "            if card1 > card2:\n",
    "                winner = 1\n",
    "            else:\n",
    "                winner = 2\n",
    "        \n",
    "\n",
    "        if winner == 1:\n",
    "            player1.append(card1)\n",
    "            player1.append(card2)\n",
    "        else:\n",
    "            player2.append(card2)\n",
    "            player2.append(card1)\n",
    "            \n",
    "        roundnum += 1\n",
    "    \n",
    "    total = 0\n",
    "    \n",
    "    if winner == 1:\n",
    "        win = player1\n",
    "    else:\n",
    "        win = player2\n",
    "    \n",
    "#     print(\"win\", winner)\n",
    "    tscore = score(copy.deepcopy(win))\n",
    "#     print(\"Score\", tscore )\n",
    "    \n",
    "    return [winner, tscore]\n",
    "print(\"Player 1 Deck:\", player1)\n",
    "print(\"Player 2 Deck:\", player2)\n",
    "print(recursiveCombat(copy.deepcopy(player1), copy.deepcopy(player2)))"
   ]
  },
  {
   "cell_type": "code",
   "execution_count": null,
   "metadata": {},
   "outputs": [],
   "source": []
  },
  {
   "cell_type": "code",
   "execution_count": null,
   "metadata": {},
   "outputs": [],
   "source": []
  }
 ],
 "metadata": {
  "kernelspec": {
   "display_name": "Python 3",
   "language": "python",
   "name": "python3"
  },
  "language_info": {
   "codemirror_mode": {
    "name": "ipython",
    "version": 3
   },
   "file_extension": ".py",
   "mimetype": "text/x-python",
   "name": "python",
   "nbconvert_exporter": "python",
   "pygments_lexer": "ipython3",
   "version": "3.7.7"
  }
 },
 "nbformat": 4,
 "nbformat_minor": 4
}
