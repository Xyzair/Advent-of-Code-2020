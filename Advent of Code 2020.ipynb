{
 "cells": [
  {
   "cell_type": "markdown",
   "metadata": {},
   "source": [
    "# Day 1\n",
    "###### Part 1\n",
    "<https://adventofcode.com/2020>"
   ]
  },
  {
   "cell_type": "code",
   "execution_count": 1,
   "metadata": {},
   "outputs": [
    {
     "name": "stdout",
     "output_type": "stream",
     "text": [
      "Data Loaded Successfully\n",
      "Data Sorted Successfully\n"
     ]
    }
   ],
   "source": [
    "day1data  = open(\"Data/day1values.txt\", \"r\") \n",
    "\n",
    "data = day1data.read().split()\n",
    "\n",
    "for i, value in enumerate(data):\n",
    "    data[i] = int(value)\n",
    "print(\"Data Loaded Successfully\")\n",
    "\n",
    "data.sort()\n",
    "\n",
    "print(\"Data Sorted Successfully\")"
   ]
  },
  {
   "cell_type": "code",
   "execution_count": 2,
   "metadata": {},
   "outputs": [
    {
     "name": "stdout",
     "output_type": "stream",
     "text": [
      "440979 == 249 * 1771\n"
     ]
    }
   ],
   "source": [
    "answer = 0\n",
    "for value in data:\n",
    "    for value2 in data:\n",
    "        if value != value2 and value + value2 == 2020:\n",
    "            answer = value * value2\n",
    "            print(answer, \"==\", value, \"*\", value2)\n",
    "            break\n",
    "        if answer != 0:\n",
    "            break"
   ]
  },
  {
   "cell_type": "markdown",
   "metadata": {},
   "source": [
    "### Part 2"
   ]
  },
  {
   "cell_type": "code",
   "execution_count": 3,
   "metadata": {},
   "outputs": [
    {
     "name": "stdout",
     "output_type": "stream",
     "text": [
      "82498112 == 194 * 274 * 1552\n"
     ]
    }
   ],
   "source": [
    "answer = 0\n",
    "for value in data:\n",
    "    for value2 in data:\n",
    "        for value3 in data:\n",
    "            if value != value2 and value + value2 + value3 == 2020:\n",
    "                answer = value * value2 * value3\n",
    "                print(answer, \"==\", value, \"*\", value2, \"*\", value3)\n",
    "                break\n",
    "            elif(value + value2 + value3 > 2020):\n",
    "                break\n",
    "        if answer != 0:\n",
    "            break"
   ]
  },
  {
   "cell_type": "markdown",
   "metadata": {},
   "source": [
    "# Day 2\n",
    "###### Part 1"
   ]
  },
  {
   "cell_type": "code",
   "execution_count": 4,
   "metadata": {},
   "outputs": [
    {
     "name": "stdout",
     "output_type": "stream",
     "text": [
      "The number of valid passwords is: 378\n"
     ]
    }
   ],
   "source": [
    "day2data  = open(\"Data/day2input.txt\", \"r\") \n",
    "\n",
    "data2 = day2data.read().split(\"\\n\")\n",
    "d2size = len(data2)\n",
    "#print(d2size)\n",
    "number = []\n",
    "letter = []\n",
    "password = []\n",
    "for i, value in enumerate(data2):\n",
    "    #print(value)\n",
    "    \n",
    "    temp = value.split()\n",
    "    #print(i, temp)\n",
    "    number.append(temp[0])\n",
    "    letter.append(temp[1])\n",
    "    password.append(temp[2])\n",
    "#print(number)\n",
    "\n",
    "def passwordcheck(number, letter, password, size):\n",
    "    valid = 0\n",
    "    for i in range(size):\n",
    "        count = password[i].count(letter[i][0])\n",
    "        \n",
    "        nums = number[i].split(\"-\")\n",
    "        num1 = int(nums[0])\n",
    "        num2 = int(nums[1])\n",
    "        #print(password[i], letter[i][0], count, num1, num2)\n",
    "        if(num1 <= count and count <= num2): \n",
    "            valid += 1\n",
    "    return valid\n",
    "        \n",
    "print(\"The number of valid passwords is:\", passwordcheck(number, letter, password, d2size))"
   ]
  },
  {
   "cell_type": "markdown",
   "metadata": {},
   "source": [
    "### Part 2"
   ]
  },
  {
   "cell_type": "code",
   "execution_count": 5,
   "metadata": {},
   "outputs": [
    {
     "name": "stdout",
     "output_type": "stream",
     "text": [
      "The number of valid passwords is: 280\n"
     ]
    }
   ],
   "source": [
    "def passwordcheckp2(number, letter, password, size):\n",
    "    valid = 0\n",
    "    for i in range(size):\n",
    "        count = 0\n",
    "        nums = number[i].split(\"-\")\n",
    "        num1 = int(nums[0])\n",
    "        num2 = int(nums[1])\n",
    "        #print(password[i], letter[i][0], num1, num2)\n",
    "        if(len(password[i]) < num2):\n",
    "            break\n",
    "        if(password[i][num1 - 1] == letter[i][0]):\n",
    "            count += 1\n",
    "        if(password[i][num2 - 1] == letter[i][0]):\n",
    "            count += 1\n",
    "        if(count == 1): \n",
    "            valid += 1\n",
    "    return valid\n",
    "\n",
    "print(\"The number of valid passwords is:\", passwordcheckp2(number, letter, password, d2size))"
   ]
  },
  {
   "cell_type": "markdown",
   "metadata": {},
   "source": [
    "# Day 3 \n",
    "###### Part 1"
   ]
  },
  {
   "cell_type": "code",
   "execution_count": 6,
   "metadata": {},
   "outputs": [
    {
     "name": "stdout",
     "output_type": "stream",
     "text": [
      "Hit 216 trees on the way down\n"
     ]
    }
   ],
   "source": [
    "day3data  = open(\"Data/day3values.txt\", \"r\") \n",
    "#make the array 2d\n",
    "data3 = day3data.read().split(\"\\n\")\n",
    "\n",
    "#Movement Translation\n",
    "x = 3\n",
    "y = 1\n",
    "def toboggan(x,y):\n",
    "    #current location\n",
    "    #[0] = x  [1] = y\n",
    "    pos = [0,0]\n",
    "\n",
    "    width = len(data3[0])\n",
    "    height = len(data3)\n",
    "    #print(width, height)\n",
    "\n",
    "    tree = 0\n",
    "\n",
    "    while pos[1] < height:\n",
    "        #print(pos)\n",
    "        if(data3[pos[1]][pos[0]] == \"#\"):\n",
    "            tree += 1\n",
    "        pos[0] = (pos[0] + x) % width\n",
    "        pos[1] += y\n",
    "    return tree\n",
    "print(\"Hit\", toboggan(x,y), \"trees on the way down\")"
   ]
  },
  {
   "cell_type": "markdown",
   "metadata": {},
   "source": [
    "### Part 2"
   ]
  },
  {
   "cell_type": "code",
   "execution_count": 7,
   "metadata": {},
   "outputs": [
    {
     "name": "stdout",
     "output_type": "stream",
     "text": [
      "6708199680\n"
     ]
    }
   ],
   "source": [
    "values = [[1,1],\n",
    "          [3,1],\n",
    "          [5,1],\n",
    "          [7,1],\n",
    "          [1,2]]\n",
    "answer = 1\n",
    "for value in values:\n",
    "    #print(value, toboggan(value[0], value[1]))\n",
    "    answer *= toboggan(value[0], value[1])\n",
    "    \n",
    "print(answer)"
   ]
  },
  {
   "cell_type": "markdown",
   "metadata": {},
   "source": [
    "# Day 4\n",
    "###### Part 1"
   ]
  },
  {
   "cell_type": "code",
   "execution_count": 8,
   "metadata": {
    "scrolled": false
   },
   "outputs": [
    {
     "name": "stdout",
     "output_type": "stream",
     "text": [
      "There are 219 passports that appear to be valid\n"
     ]
    }
   ],
   "source": [
    "day4data  = open(\"Data/day4values.txt\", \"r\") \n",
    "#make the array 2d\n",
    "data4 = day4data.read().split(\"\\n\\n\")\n",
    "\n",
    "for i, value in enumerate(data4):\n",
    "    data4[i] = value.replace('\\n', ' ')\n",
    "\n",
    "#print(data4)\n",
    "length4 = len(data4)\n",
    "ans = 0\n",
    "\n",
    "for value in data4:\n",
    "    if \"byr\" in value and \"iyr\" in value and \"eyr\" in value and \"hgt\" in value and \"hcl\" in value and \"ecl\" in value and \"pid\" in value:\n",
    "           ans += 1\n",
    "       \n",
    "print(\"There are\", ans, \"passports that appear to be valid\")"
   ]
  },
  {
   "cell_type": "markdown",
   "metadata": {},
   "source": [
    "### Part 2"
   ]
  },
  {
   "cell_type": "code",
   "execution_count": 9,
   "metadata": {
    "scrolled": true
   },
   "outputs": [
    {
     "name": "stdout",
     "output_type": "stream",
     "text": [
      "There are 127 valid passports\n"
     ]
    }
   ],
   "source": [
    "import re\n",
    "\n",
    "def yearCheck(min, max, find, value):\n",
    "    byr = value.find(find)\n",
    "    temp = int(value[byr+4:byr+8])\n",
    "    if(min <= temp <= max):\n",
    "        return 1\n",
    "    #print(byr)\n",
    "    return 0\n",
    "\n",
    "def heightCheck(value):\n",
    "    hgt = value.find(\"hgt\")\n",
    "    hgtt = value[hgt+4 : hgt+9]\n",
    "    score = 0\n",
    "    \n",
    "    if \"in\" in hgtt:\n",
    "        temp = int(value[hgt+4 : hgt+6])\n",
    "        if(59 <= temp <= 76):\n",
    "            score += 1\n",
    "    elif (\"cm\" in hgtt):\n",
    "        if(\"c\" not in hgtt[0:3]):\n",
    "            temp = int(value[hgt+4 : hgt+7])\n",
    "            if(150 <= temp <= 193):\n",
    "                score += 1\n",
    "                          \n",
    "    return score\n",
    "\n",
    "def eyeColor(value):\n",
    "    #ecl\n",
    "    ecl = value.find(\"ecl\")\n",
    "    ecll = value[ecl+4 :ecl + 7 ]\n",
    "    score =0\n",
    "#   print(ecll)\n",
    "    eyecolors = [\"amb\", \"blu\", \"brn\", \"gry\", \"grn\",\"hzl\", \"oth\"]\n",
    "    if ecll in eyecolors:\n",
    "        score += 1\n",
    "        #print(ecll)\n",
    "    return score\n",
    "\n",
    "ans = 0\n",
    "valid = []\n",
    "for value in data4:\n",
    "    if \"byr\" in value and \"iyr\" in value and \"eyr\" in value and \"hgt\" in value and \"hcl\" in value and \"ecl\" in value and \"pid\" in value:\n",
    "        score = 0\n",
    "        \n",
    "        #birth year\n",
    "        score += yearCheck(1920, 2002, \"byr\", value)\n",
    "        #issued year\n",
    "        score += yearCheck(2010, 2020, \"iyr\", value)\n",
    "        #expiration year\n",
    "        score += yearCheck(2020, 2030, \"eyr\", value)\n",
    "\n",
    "        if score < 3:\n",
    "            continue\n",
    "        \n",
    "        score += heightCheck(value)\n",
    "        score+= eyeColor(value)\n",
    "        \n",
    "        if score < 5:\n",
    "            continue\n",
    "                \n",
    "        #hcl\n",
    "        hcl = re.findall(\"hcl:#[0-9, a-f]{6}\", value)\n",
    "        if(hcl != []):\n",
    "            #print(hcl)\n",
    "            score += 1\n",
    "        else:\n",
    "            continue\n",
    "            \n",
    "        #pid\n",
    "#         print(value)\n",
    "        pid = re.findall(\"pid:\\d*\", value)\n",
    "        if(pid != []):\n",
    "            if(len(pid[0]) == 13):\n",
    "                score += 1\n",
    "        else:\n",
    "            continue\n",
    "\n",
    "        if(score >= 7):\n",
    "            ans += 1\n",
    "                            \n",
    "print(\"There are\", ans, \"valid passports\")"
   ]
  },
  {
   "cell_type": "markdown",
   "metadata": {},
   "source": [
    "# Day 5\n",
    "###### Part 1"
   ]
  },
  {
   "cell_type": "code",
   "execution_count": 10,
   "metadata": {
    "scrolled": true
   },
   "outputs": [
    {
     "name": "stdout",
     "output_type": "stream",
     "text": [
      "The highest seat ID is: 874.0\n"
     ]
    }
   ],
   "source": [
    "day5data  = open(\"Data/day5values.txt\", \"r\") \n",
    "#make the array 2d\n",
    "data5 = day5data.read().split(\"\\n\")\n",
    "\n",
    "#print(data5)\n",
    "\n",
    "def binarySpacePartition(min, max, upLetter, downLetter, letters):\n",
    "    diff = (max + 1 - min) / 2\n",
    "    #print(min, max, diff)\n",
    "    \n",
    "    if downLetter in letters[0]:\n",
    "        if len(letters) > 1:\n",
    "            return binarySpacePartition(min, max - diff, upLetter, downLetter, letters[1:])\n",
    "        else:\n",
    "            return min \n",
    "        \n",
    "    elif upLetter in letters[0]:\n",
    "        if len(letters) > 1:\n",
    "            return binarySpacePartition(min + diff, max, upLetter, downLetter, letters[1:])\n",
    "        else:\n",
    "            return max\n",
    "    \n",
    "maxID = 0\n",
    "for value in data5:\n",
    "    a = binarySpacePartition(0, 127, \"B\", \"F\", value[0:7])\n",
    "    b = binarySpacePartition(0, 7, \"R\", \"L\", value[7:10])\n",
    "    temp = a * 8 + b\n",
    "    if temp > maxID:\n",
    "        maxID = temp\n",
    "\n",
    "print(\"The highest seat ID is:\", maxID)"
   ]
  },
  {
   "cell_type": "markdown",
   "metadata": {},
   "source": [
    "### Part 2"
   ]
  },
  {
   "cell_type": "code",
   "execution_count": 11,
   "metadata": {},
   "outputs": [
    {
     "name": "stdout",
     "output_type": "stream",
     "text": [
      "593.0 595.0\n",
      "The open seat is at: 594.0\n"
     ]
    }
   ],
   "source": [
    "maxID = []\n",
    "for value in data5:\n",
    "    a = binarySpacePartition(0, 127, \"B\", \"F\", value[0:7])\n",
    "    b = binarySpacePartition(0, 7, \"R\", \"L\", value[7:10])\n",
    "    temp = a * 8 + b\n",
    "    maxID.append(temp)\n",
    "\n",
    "maxID.sort()\n",
    "prev = -1\n",
    "fount = 0\n",
    "for value in maxID:\n",
    "    if prev == -1 or prev + 1 == value:\n",
    "        prev = value\n",
    "    elif prev + 1 != value:\n",
    "        print(prev, value)\n",
    "        print(\"The open seat is at:\", prev + 1)\n",
    "        break\n",
    "\n",
    "#print(maxID)"
   ]
  },
  {
   "cell_type": "markdown",
   "metadata": {},
   "source": [
    "# Day 6\n",
    "###### Part 1"
   ]
  },
  {
   "cell_type": "code",
   "execution_count": 12,
   "metadata": {},
   "outputs": [
    {
     "name": "stdout",
     "output_type": "stream",
     "text": [
      "Total number of questions answered Yes: 6291\n"
     ]
    }
   ],
   "source": [
    "day6data  = open(\"Data/day6values.txt\", \"r\") \n",
    "#make the array 2d\n",
    "data6 = day6data.read().split(\"\\n\\n\")\n",
    "\n",
    "for i, value in enumerate(data6):\n",
    "    data6[i] = value.replace('\\n', '')\n",
    "\n",
    "#print(data6[0])\n",
    "\n",
    "total = {}\n",
    "values = []\n",
    "for value in enumerate(data6):\n",
    "    dict={}\n",
    "    #print(\"value\", value)\n",
    "    for char in value[1]:\n",
    "        #print(\"char\", char)\n",
    "        dict[char] = 1\n",
    "        \n",
    "    values.append(dict)\n",
    "    for letter in dict:\n",
    "        if letter in total:\n",
    "            total[letter] += 1\n",
    "        else:\n",
    "            total[letter] = 1\n",
    "            \n",
    "#print(total)\n",
    "sum = 0\n",
    "for value in total:\n",
    "    sum += total[value]\n",
    "\n",
    "#print(values)\n",
    "print(\"Total number of questions answered Yes:\", sum)"
   ]
  },
  {
   "cell_type": "markdown",
   "metadata": {},
   "source": [
    "### Part 2"
   ]
  },
  {
   "cell_type": "code",
   "execution_count": 13,
   "metadata": {
    "scrolled": true
   },
   "outputs": [
    {
     "name": "stdout",
     "output_type": "stream",
     "text": [
      "Number questions that everyone in a group answered yes: 3052\n"
     ]
    }
   ],
   "source": [
    "day6data  = open(\"Data/day6values.txt\", \"r\") \n",
    "#make the array 2d\n",
    "data6 = day6data.read().split(\"\\n\\n\")\n",
    "\n",
    "#This is dependent on values from the previous code block\n",
    "\n",
    "#print(data6)\n",
    "total = 0\n",
    "for i, value in enumerate(data6):\n",
    "    \n",
    "    #Get the data split per person\n",
    "    temp = value.strip().split(\"\\n\")\n",
    "    #print(\"temp\", temp)\n",
    "    \n",
    "    for value1 in values[i]:\n",
    "        #grab the useful letters\n",
    "        #print(\"value:\", value1)\n",
    "        \n",
    "        if type(value1) == int:\n",
    "            continue\n",
    "        useful = value1\n",
    "        #print(\"useful\", useful)\n",
    "        valid = 1\n",
    "        \n",
    "        for entry in temp:\n",
    "            #print(useful)\n",
    "            for char in useful[0]:\n",
    "                if char not in entry:\n",
    "                    valid = 0\n",
    "        if valid:\n",
    "            total += 1\n",
    "            #print(\"valid\", total)\n",
    "    #print(temp)\n",
    "print(\"Number questions that everyone in a group answered yes:\", total)"
   ]
  },
  {
   "cell_type": "markdown",
   "metadata": {},
   "source": [
    "# Day 7"
   ]
  },
  {
   "cell_type": "code",
   "execution_count": 14,
   "metadata": {
    "scrolled": true
   },
   "outputs": [
    {
     "name": "stdout",
     "output_type": "stream",
     "text": [
      "Questionable dictionary of dictionaries has been created\n"
     ]
    }
   ],
   "source": [
    "import re\n",
    "\n",
    "day7data  = open(\"Data/day7values.txt\", \"r\") \n",
    "#make the array 2d\n",
    "data7 = day7data.read().split(\"\\n\")\n",
    "\n",
    "#print(data7)\n",
    "\n",
    "rules = {}\n",
    "#Haha I made a dictionary tree\n",
    "def parser(sentence):\n",
    "    #print(\"sent\", sentence)\n",
    "    rule = re.findall(\"^[a-z]+\\s[a-z]+\", sentence)\n",
    "    #print(rule)\n",
    "    contain = re.findall(\"\\d\\s[a-z]+\\s[a-z]+\", sentence)\n",
    "    #print(\"CONTAINS\", contain)\n",
    "    count = 0\n",
    "    for word in contain:\n",
    "#         print(\"CONTAINS\", contain)\n",
    "        #print(\"care\", word[2:len(word)],\":\", word[0])\n",
    "        temp = {word[2:]: int(word[0])}\n",
    "#         print(temp)\n",
    "        #print(\"RULES\", rule[0])\n",
    "        if count == 0:\n",
    "            rules[rule[0][0:len(rule[0])]] = temp\n",
    "#             print(\"1\", rules[rule[0][0:len(rule[0])]])\n",
    "            count += 1\n",
    "        else:\n",
    "            rules[rule[0][0:len(rule[0])]].update(temp)\n",
    "#             print(\"2\", rules[rule[0][0:len(rule[0])]])\n",
    "    \n",
    "    \n",
    "for rule in data7:\n",
    "    parser(rule)\n",
    "    \n",
    "print(\"Questionable dictionary of dictionaries has been created\")"
   ]
  },
  {
   "cell_type": "markdown",
   "metadata": {},
   "source": [
    "###### Part 1"
   ]
  },
  {
   "cell_type": "code",
   "execution_count": 15,
   "metadata": {},
   "outputs": [
    {
     "name": "stdout",
     "output_type": "stream",
     "text": [
      "142 different colored bags can contain the shiny gold bag\n"
     ]
    }
   ],
   "source": [
    "trules = rules\n",
    "containsBag = {}\n",
    "bagv2 = []\n",
    "\n",
    "for rule in trules:\n",
    "    #print(rules[rule])\n",
    "    for value in trules[rule]:\n",
    "        #print(value)\n",
    "        if 'shiny gold' in value:\n",
    "#             print(\"VALID RULE\", rule, \"VAlue\", trules[rule])\n",
    "            containsBag[rule] = 1\n",
    "                \n",
    "def containsAll(bags, rules, count):\n",
    "    \n",
    "    #print(\"BAGS\", bags)\n",
    "    tempBag={}\n",
    "    for bag in bags:\n",
    "        for rule in rules:\n",
    "            #print(rules[rule])\n",
    "            for value in rules[rule]:\n",
    "                #print(value)\n",
    "                if bag in value:\n",
    "#                     print(\"VALID RULE\", rule, \"BAG:\", bag)\n",
    "                    tempBag[rule] = 1\n",
    "    for value in tempBag:\n",
    "        bags[value] = 1\n",
    "    if len(bags) != count:\n",
    "        containsAll(bags, rules, len(bags))\n",
    "\n",
    "    \n",
    "#print(\"containsBag\", containsBag)\n",
    "\n",
    "containsAll(containsBag, rules, 0)\n",
    "\n",
    "total = len(containsBag) + len(bagv2)\n",
    "print(total, \"different colored bags can contain the shiny gold bag\")"
   ]
  },
  {
   "cell_type": "markdown",
   "metadata": {},
   "source": [
    "### Part 2"
   ]
  },
  {
   "cell_type": "code",
   "execution_count": 16,
   "metadata": {
    "scrolled": true
   },
   "outputs": [
    {
     "name": "stdout",
     "output_type": "stream",
     "text": [
      "Total number of bags in the shiny gold bag is: 10219\n"
     ]
    }
   ],
   "source": [
    "def recurse(find):\n",
    "    total = 0\n",
    "    #do the bags exist?\n",
    "    if find in rules:\n",
    "        for rule in rules[find]:\n",
    "            #Do the sub bags exist?\n",
    "#             print(rules[find])\n",
    "#             print(\"RULE\", rule, rules[find][rule])\n",
    "            total += rules[find][rule] * recurse(rule) + rules[find][rule]\n",
    "#             print(\"After Recursion Total\",\"x\",rules[find][rule],\"+\", rules[find][rule], \"=\", total, rule,\"\\t\\tIN BAG\", find)\n",
    "           \n",
    "    else:\n",
    "#         print(find, \"0\")\n",
    "        return 0\n",
    "            \n",
    "#     print(\"Final Total\", total)\n",
    "    return total\n",
    "\n",
    "print(\"Total number of bags in the shiny gold bag is:\", recurse(\"shiny gold\"))"
   ]
  },
  {
   "cell_type": "markdown",
   "metadata": {},
   "source": [
    "# Day 8\n",
    "###### Part 1"
   ]
  },
  {
   "cell_type": "code",
   "execution_count": 17,
   "metadata": {},
   "outputs": [
    {
     "name": "stdout",
     "output_type": "stream",
     "text": [
      "['acc -7', 'acc +2', 'acc +20', 'acc +14', 'jmp +191', 'acc +47', 'nop +339', 'acc +49', 'jmp +104', 'jmp +629']\n"
     ]
    }
   ],
   "source": [
    "day8data  = open(\"Data/day8values.txt\", \"r\") \n",
    "#make the array 2d\n",
    "data8 = day8data.read().split(\"\\n\")\n",
    "\n",
    "print(data8[0:10])"
   ]
  },
  {
   "cell_type": "code",
   "execution_count": 18,
   "metadata": {},
   "outputs": [
    {
     "name": "stdout",
     "output_type": "stream",
     "text": [
      "Infinite loop starts at line 296\n",
      "Answer: Accumulator is 1594\n"
     ]
    }
   ],
   "source": [
    "currentlocation = 0\n",
    "acc = 0\n",
    "ran = []\n",
    "\n",
    "while(currentlocation < len(data8)):\n",
    "    \n",
    "    if(currentlocation not in ran):\n",
    "        ran.append(currentlocation)\n",
    "    else:\n",
    "        print(\"Infinite loop starts at line\", currentlocation)\n",
    "        break\n",
    "    \n",
    "    if(currentlocation < 0):\n",
    "        currentlocation = 0\n",
    "    \n",
    "    temp = data8[currentlocation].split(\" \")\n",
    "    command = temp[0]\n",
    "    number = int(temp[1])\n",
    "#     print(command, number)\n",
    "    \n",
    "    if 'acc' in command:\n",
    "        acc += number\n",
    "    elif 'jmp' in command:\n",
    "#         if(number < 0):\n",
    "#             print(\"\\nLoop?\", acc)\n",
    "        currentlocation += number\n",
    "        continue\n",
    "    \n",
    "    currentlocation += 1\n",
    "    \n",
    "print(\"Answer: Accumulator is\", acc)"
   ]
  },
  {
   "cell_type": "markdown",
   "metadata": {},
   "source": [
    "### Part 2"
   ]
  },
  {
   "cell_type": "code",
   "execution_count": 19,
   "metadata": {},
   "outputs": [
    {
     "name": "stdout",
     "output_type": "stream",
     "text": [
      "TRUE ANSWER: 758\n",
      "found the error at instruction# 364\n",
      "updating data at line 364 ( jmp -304 )\n"
     ]
    }
   ],
   "source": [
    "import copy\n",
    "\n",
    "def bytecoderun(data8, currentlocation, acc):\n",
    "    currentlocation = 0\n",
    "    acc = 0\n",
    "    ran = []\n",
    "\n",
    "    while(currentlocation < len(data8)):\n",
    "\n",
    "        if(currentlocation not in ran):\n",
    "            ran.append(currentlocation)\n",
    "        else:\n",
    "            return 0\n",
    "\n",
    "        if(currentlocation < 0):\n",
    "            currentlocation = 0\n",
    "\n",
    "        temp = data8[currentlocation].split(\" \")\n",
    "        command = temp[0]\n",
    "        number = int(temp[1])\n",
    "\n",
    "        if 'acc' in command:\n",
    "            acc += number\n",
    "        elif 'jmp' in command:\n",
    "            currentlocation += number\n",
    "            continue\n",
    "\n",
    "\n",
    "        currentlocation += 1\n",
    "    print(\"TRUE ANSWER:\", acc)\n",
    "    return 1\n",
    "\n",
    "def bytecode(data8, currentlocation, acc):\n",
    "    \n",
    "    acc = 0\n",
    "    ran = []\n",
    "\n",
    "    while(currentlocation < len(data8)):\n",
    "\n",
    "        if(currentlocation not in ran):\n",
    "            ran.append(currentlocation)\n",
    "        else:\n",
    "            break\n",
    "\n",
    "        if(currentlocation < 0):\n",
    "            currentlocation = 0\n",
    "\n",
    "        temp = data8[currentlocation].split(\" \")\n",
    "        command = temp[0]\n",
    "        number = int(temp[1])\n",
    "\n",
    "        if 'acc' in command:\n",
    "            acc += number\n",
    "\n",
    "        elif 'jmp' in command:\n",
    "            \n",
    "            fake = copy.deepcopy(data8)\n",
    "            \n",
    "            changedcode = \"nop \" + temp[1]\n",
    "            fake[currentlocation] = changedcode\n",
    "            #print(\"going in\")\n",
    "            if bytecoderun(fake, 0, acc):\n",
    "                print(\"found the error at instruction#\", currentlocation)\n",
    "                print(\"updating data at line\",currentlocation,\"(\", data8[currentlocation],\")\")\n",
    "                data8[currentlocation] = changedcode\n",
    "                continue\n",
    "            \n",
    "            currentlocation += number\n",
    "            continue\n",
    "            \n",
    "        elif 'nop' in command:\n",
    "            \n",
    "            fake = copy.deepcopy(data8)\n",
    "            \n",
    "            changedcode = \"jmp \" + temp[1]\n",
    "            fake[currentlocation] = changedcode\n",
    "            #print(\"going in\")\n",
    "            if bytecoderun(fake, currentlocation, acc):\n",
    "                print(\"found the error at instructions#\", currentlocation)\n",
    "                print(\"updating data at line\", 0,\"(\", data8[currentlocation],\")\")\n",
    "                data8[currentlocation] = changedcode\n",
    "                continue\n",
    "\n",
    "        currentlocation += 1 \n",
    "\n",
    "bytecode(data8, 0,0)"
   ]
  },
  {
   "cell_type": "markdown",
   "metadata": {},
   "source": [
    "# Day 9\n",
    "###### Part 1"
   ]
  },
  {
   "cell_type": "code",
   "execution_count": 20,
   "metadata": {},
   "outputs": [
    {
     "name": "stdout",
     "output_type": "stream",
     "text": [
      "[17, 14, 2, 35, 39, 31, 5, 25, 1, 29]\n"
     ]
    }
   ],
   "source": [
    "day9data  = open(\"Data/day9values.txt\", \"r\") \n",
    "#make the array 2d\n",
    "data9 = day9data.read().split(\"\\n\")\n",
    "\n",
    "for i, value in enumerate(data9):\n",
    "    data9[i] = int(value)\n",
    "\n",
    "print(data9[0:10])"
   ]
  },
  {
   "cell_type": "code",
   "execution_count": 21,
   "metadata": {},
   "outputs": [
    {
     "name": "stdout",
     "output_type": "stream",
     "text": [
      "invalid at line 500 value 10884537\n"
     ]
    }
   ],
   "source": [
    "preamble = 25\n",
    "\n",
    "invalidNum = 0\n",
    "\n",
    "i = preamble\n",
    "while i < len(data9):\n",
    "    valid = 0\n",
    "    for value1 in data9[i-preamble:i]:\n",
    "        for value2 in data9[i-preamble:i]:\n",
    "            if value1 == value2:\n",
    "                continue\n",
    "            if value1 + value2 == data9[i]:\n",
    "                i+=1\n",
    "                valid = 1\n",
    "                continue\n",
    "        if valid:\n",
    "            continue\n",
    "    if valid == 0:\n",
    "        invalidNum = data9[i]\n",
    "        print(\"invalid at line\", i, \"value\", invalidNum)\n",
    "        break"
   ]
  },
  {
   "cell_type": "markdown",
   "metadata": {},
   "source": [
    "### Part 2"
   ]
  },
  {
   "cell_type": "code",
   "execution_count": 22,
   "metadata": {},
   "outputs": [
    {
     "name": "stdout",
     "output_type": "stream",
     "text": [
      "386 + 402 = 10884537\n",
      "total: 10884537 = 10884537 (invalidNum)\n",
      "386 + 402 = 10884537\n",
      "min value 408514 + max value 852795 = 1261309\n"
     ]
    }
   ],
   "source": [
    "start = 0\n",
    "end = 0\n",
    "reset = 0\n",
    "for i, value1 in enumerate(data9):\n",
    "    if value1 > invalidNum:\n",
    "        continue\n",
    "    start = i\n",
    "    total = value1\n",
    "    for j, value2 in enumerate(data9):\n",
    "        if i == j or j < i:\n",
    "            continue\n",
    "        \n",
    "        total += value2\n",
    "        #print(value1, value2, total)\n",
    "        if total > invalidNum:\n",
    "            #print(\"too large\")\n",
    "            break\n",
    "            \n",
    "        if total == invalidNum:    \n",
    "            end = j\n",
    "            break\n",
    "    if end:\n",
    "        break\n",
    "            \n",
    "\n",
    "print(start, \"+\", end, \"=\", invalidNum)\n",
    "print(\"total:\", total, \"=\", invalidNum, \"(invalidNum)\")\n",
    "print(start, \"+\", end, \"=\", invalidNum)   \n",
    "\n",
    "\n",
    "mini = min(data9[start:end])\n",
    "maxi = max(data9[start:end])\n",
    "print(\"min value\", mini,\"+ max value\", maxi, \"=\", mini + maxi)"
   ]
  },
  {
   "cell_type": "markdown",
   "metadata": {},
   "source": [
    "# Day 10\n",
    "###### Part 1"
   ]
  },
  {
   "cell_type": "code",
   "execution_count": 87,
   "metadata": {},
   "outputs": [
    {
     "name": "stdout",
     "output_type": "stream",
     "text": [
      "[1, 2, 3, 4, 7, 8, 9, 12, 13, 16, 17, 18, 19, 22, 25, 28, 31, 32, 33, 34, 35, 38, 39, 42, 43, 44, 45, 46, 49, 52, 53, 54, 55, 56, 59, 62, 63, 64, 65, 66, 69, 70, 71, 72, 73, 76, 77, 78, 79, 80, 83, 86, 89, 90, 91, 92, 95, 98, 99, 100, 101, 104, 107, 108, 111, 114, 117, 118, 119, 120, 121, 124, 127, 128, 129, 130, 133, 134, 135, 136, 137, 140, 141, 142, 143, 144, 147, 150, 151, 152, 153, 154, 157, 158, 159, 160, 163, 166, 167, 168, 169, 170, 173, 174, 175, 176, 177]\n"
     ]
    }
   ],
   "source": [
    "day10data  = open(\"Data/day10values.txt\", \"r\") \n",
    "#make the array 2d\n",
    "data10 = day10data.read().split(\"\\n\")\n",
    "\n",
    "for i, value in enumerate(data10):\n",
    "    data10[i] = int(value)\n",
    "data10.sort()\n",
    "# print(data10)"
   ]
  },
  {
   "cell_type": "code",
   "execution_count": 90,
   "metadata": {},
   "outputs": [
    {
     "name": "stdout",
     "output_type": "stream",
     "text": [
      "answer 72 one step up adapters x 36 three step up adapters = 2592\n"
     ]
    }
   ],
   "source": [
    "prev = 0\n",
    "one = 0\n",
    "three = 1\n",
    "for value in data10:\n",
    "    if prev + 1 == value:\n",
    "        one+=1\n",
    "    elif prev + 3 == value:\n",
    "        three+=1\n",
    "    prev = value\n",
    "    \n",
    "print(\"answer\", one, \"one step up adapters x\", three, \"three step up adapters =\", one*three)"
   ]
  },
  {
   "cell_type": "markdown",
   "metadata": {},
   "source": [
    "### Part 2"
   ]
  },
  {
   "cell_type": "code",
   "execution_count": 89,
   "metadata": {},
   "outputs": [
    {
     "name": "stdout",
     "output_type": "stream",
     "text": [
      "Total Number of adapter options 198428693313536\n"
     ]
    }
   ],
   "source": [
    "prev = 0\n",
    "three = 0\n",
    "total = 1\n",
    "diff=[]\n",
    "\n",
    "for value in data10:\n",
    "    diff.append(value - prev)\n",
    "    prev = value\n",
    "\n",
    "diff.append(3)\n",
    "\n",
    "roll = 0\n",
    "previous = 0\n",
    "pattern = {0:1, 1:1, 2:2, 3:4, 4:7}\n",
    "for value in diff:\n",
    "    \n",
    "    if value == 1:\n",
    "        roll += 1\n",
    "    elif value == 3:\n",
    "        total *= pattern[roll]\n",
    "        roll = 0\n",
    "            \n",
    "    prev = value\n",
    "print(\"Total Number of adapter options\", total)"
   ]
  },
  {
   "cell_type": "code",
   "execution_count": null,
   "metadata": {},
   "outputs": [],
   "source": []
  },
  {
   "cell_type": "code",
   "execution_count": null,
   "metadata": {},
   "outputs": [],
   "source": []
  }
 ],
 "metadata": {
  "kernelspec": {
   "display_name": "Python 3",
   "language": "python",
   "name": "python3"
  },
  "language_info": {
   "codemirror_mode": {
    "name": "ipython",
    "version": 3
   },
   "file_extension": ".py",
   "mimetype": "text/x-python",
   "name": "python",
   "nbconvert_exporter": "python",
   "pygments_lexer": "ipython3",
   "version": "3.7.7"
  }
 },
 "nbformat": 4,
 "nbformat_minor": 4
}
